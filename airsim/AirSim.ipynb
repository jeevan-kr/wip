{
 "cells": [
  {
   "cell_type": "markdown",
   "metadata": {
    "collapsed": false,
    "slideshow": {
     "slide_type": "slide"
    }
   },
   "source": [
    "## Flight Delays: \n",
    "* Missing a flight could mean that you may not be be able to meet loved ones for holidays or be absent at critical business meetings.  [A study estimated](http://www.isr.umd.edu/NEXTOR/pubs/TDI_Report_Final_10_18_10_V3.pdf) that it costs the US economy \\$34 billion.\n",
    "* The Federal Aviation Authority imposed a fine of \\$27,500 per passenger for more than four hour delay.\n",
    "* Most importantly, I'd just would like to know if my flight will be delayed\n",
    "\n",
    "\n",
    "Thanks to Sudaksh for ideas\n",
    "\n"
   ]
  },
  {
   "cell_type": "markdown",
   "metadata": {
    "slideshow": {
     "slide_type": "slide"
    }
   },
   "source": [
    "## Approach\n",
    "* The purpose of this exercise to demonstrate the power of statistical techniques\n",
    "* As a result, we will start at exploratory analysis and continue to try to simulate the airline network\n",
    "\n",
    "## Background\n",
    "* Southwest Airlines is a great candidate for this exercise because almost all their airplanes are Boeing 737. As a result, the no. of seats, the time take to turn-around the aricraft, crew size, average haul duration all tend to be consistent. \n",
    "\n",
    "* Another reason for choosing Southwest, is that their operations team is great. Since 1982, [Southwest has pushed](https://www.youtube.com/watch?v=gnFfFRDMd_0) to turn around aircrafts within 10 minutes of landing. This has a critical impact on data processing because flights can be chained together with little loss in accuracy. \n",
    "\n",
    "* Also, I love Southwest. \n",
    "\n",
    "Always open to feedback, so feel free to send them my way\n",
    "PS: Southwest is the largest operator of Boeing 737s in the world!\n"
   ]
  },
  {
   "cell_type": "markdown",
   "metadata": {
    "slideshow": {
     "slide_type": "slide"
    }
   },
   "source": [
    "## Background (Continued)\n",
    "* FAA considers a flight that arrives more than 15 minutes after ETA as a \n",
    "delayed flight\n",
    "* Data is available at [Bureau of Transportation Statistic's](http://www.transtats.bts.gov/DL_SelectFields.asp?Table_ID=236&DB_Short_Name=On-Time) website\n",
    "* A Layman's Anatomy of a flight: \n",
    "    * Push Back (Departure): The airplane pushes back from the gate\n",
    "    * Taxi Out: The airplane taxis out for take off\n",
    "    * Take Off (Wheels Up): The wheels are off the ground\n",
    "    * Flight\n",
    "    * Land (Wheels Down): The wheels are back on ground\n",
    "    * Taxi In: Taxi to gate\n",
    "    * Arrival: When the wheels stop at the gate"
   ]
  },
  {
   "cell_type": "code",
   "execution_count": 2,
   "metadata": {
    "collapsed": false,
    "slideshow": {
     "slide_type": "skip"
    }
   },
   "outputs": [
    {
     "data": {
      "text/plain": [
       "5819079"
      ]
     },
     "execution_count": 2,
     "metadata": {},
     "output_type": "execute_result"
    }
   ],
   "source": [
    "import sys\n",
    "import os.path\n",
    "import zipfile\n",
    "import numpy as np\n",
    "import pandas as pd\n",
    "%matplotlib inline\n",
    "def unzipFilesRename():\n",
    "    filePref = \"9078175_T_ONTIME \"\n",
    "    fileCount = 0\n",
    "    for i in range(2013,2016):\n",
    "        for j in range(1,13):\n",
    "            j_str = str(j)\n",
    "            if j < 10:\n",
    "                j_str = \"0\" + j_str\n",
    "\n",
    "            yrMon = str(i) + \"-\" + j_str \n",
    "            fname = filePref + yrMon + \".zip\" \n",
    "            if os.path.isfile(fname):\n",
    "                fh = open(fname, 'rb')\n",
    "                z = zipfile.ZipFile(fh)\n",
    "                for name in z.namelist():\n",
    "                    outpath = \".\"\n",
    "                    z.extract(name, outpath)\n",
    "                    os.rename(filePref.strip() + \".csv\",yrMon+\".csv\")\n",
    "                fh.close()\n",
    "                fileCount += 1\n",
    "\n",
    "    return fileCount\n",
    "\n",
    "def getDataset(startYear, endYear):\n",
    "    frames = []\n",
    "    for i in range(startYear,endYear + 1):\n",
    "        for j in range(1,13):\n",
    "            j_str = str(j)\n",
    "            if j < 10:\n",
    "                j_str = \"0\" + j_str\n",
    "\n",
    "            yrMon = str(i) + \"-\" + j_str + \".csv\"\n",
    "            temp = pd.read_csv(\"data/\"+yrMon)\n",
    "            frames.append (temp)\n",
    "    return pd.concat(frames)\n",
    "\n",
    "dat = getDataset(2015,2015)\n",
    "len(dat)\n",
    "            \n",
    "#dat.column_names"
   ]
  },
  {
   "cell_type": "code",
   "execution_count": 3,
   "metadata": {
    "collapsed": false,
    "slideshow": {
     "slide_type": "slide"
    }
   },
   "outputs": [
    {
     "data": {
      "text/plain": [
       "5819079"
      ]
     },
     "execution_count": 3,
     "metadata": {},
     "output_type": "execute_result"
    }
   ],
   "source": [
    "len(dat)\n"
   ]
  },
  {
   "cell_type": "code",
   "execution_count": 4,
   "metadata": {
    "collapsed": false,
    "slideshow": {
     "slide_type": "slide"
    }
   },
   "outputs": [
    {
     "data": {
      "text/plain": [
       "array(['YEAR', 'QUARTER', 'MONTH', 'DAY_OF_MONTH', 'DAY_OF_WEEK',\n",
       "       'FL_DATE', 'UNIQUE_CARRIER', 'CARRIER', 'TAIL_NUM', 'FL_NUM',\n",
       "       'ORIGIN_AIRPORT_ID', 'ORIGIN_AIRPORT_SEQ_ID',\n",
       "       'ORIGIN_CITY_MARKET_ID', 'ORIGIN', 'DEST_AIRPORT_ID',\n",
       "       'DEST_AIRPORT_SEQ_ID', 'DEST_CITY_MARKET_ID', 'DEST', 'DEP_TIME',\n",
       "       'DEP_DELAY', 'DEP_DELAY_NEW', 'DEP_DEL15', 'DEP_TIME_BLK',\n",
       "       'TAXI_OUT', 'WHEELS_OFF', 'WHEELS_ON', 'TAXI_IN', 'ARR_TIME',\n",
       "       'ARR_DELAY', 'ARR_DELAY_NEW', 'ARR_DEL15', 'ARR_TIME_BLK',\n",
       "       'CANCELLED', 'CANCELLATION_CODE', 'DIVERTED', 'Unnamed: 35'], dtype=object)"
      ]
     },
     "execution_count": 4,
     "metadata": {},
     "output_type": "execute_result"
    }
   ],
   "source": [
    "# The following columns need to be downloaded from the BTS website linked above. \n",
    "\n",
    "dat.columns.values"
   ]
  },
  {
   "cell_type": "code",
   "execution_count": null,
   "metadata": {
    "collapsed": true
   },
   "outputs": [],
   "source": [
    "dat['FLT_DELAY']  = dat.apply(lambda dat:dat['ARR_TIME'] - dat['DEP_TIME'], axis = 1) \n"
   ]
  },
  {
   "cell_type": "code",
   "execution_count": 115,
   "metadata": {
    "collapsed": true
   },
   "outputs": [],
   "source": [
    "dat['TAXI_OUT_DELAY']  = dat.apply(lambda dat:dat['WHEELS_OFF'] - dat['DEP_TIME'], axis = 1) "
   ]
  },
  {
   "cell_type": "code",
   "execution_count": 112,
   "metadata": {
    "collapsed": true
   },
   "outputs": [],
   "source": [
    "dat['TAXI_IN_DELAY']  = dat.apply(lambda dat:dat['ARR_TIME'] - dat['WHEELS_ON'], axis = 1) "
   ]
  },
  {
   "cell_type": "code",
   "execution_count": 108,
   "metadata": {
    "collapsed": true
   },
   "outputs": [],
   "source": [
    "dat['AIR_DELAY']  = dat.apply(lambda dat:dat['WHEELS_ON'] - dat['WHEELS_OFF'], axis = 1) "
   ]
  },
  {
   "cell_type": "code",
   "execution_count": null,
   "metadata": {
    "collapsed": true
   },
   "outputs": [],
   "source": []
  },
  {
   "cell_type": "code",
   "execution_count": null,
   "metadata": {
    "collapsed": true
   },
   "outputs": [],
   "source": []
  },
  {
   "cell_type": "code",
   "execution_count": null,
   "metadata": {
    "collapsed": true
   },
   "outputs": [],
   "source": []
  },
  {
   "cell_type": "markdown",
   "metadata": {
    "slideshow": {
     "slide_type": "slide"
    }
   },
   "source": [
    "#### Facts about the data\n",
    "* 2015 dataset consists of 5,819,079 flights\n",
    "* The data includes flight details of 18 carriers\n"
   ]
  },
  {
   "cell_type": "code",
   "execution_count": 5,
   "metadata": {
    "collapsed": false,
    "slideshow": {
     "slide_type": "fragment"
    }
   },
   "outputs": [
    {
     "name": "stdout",
     "output_type": "stream",
     "text": [
      "   Code                                 Description\n",
      "0    AA            American Airlines Inc. (1960 - )\n",
      "1    AS              Alaska Airlines Inc. (1960 - )\n",
      "2    B6                   JetBlue Airways (2000 - )\n",
      "3    DL              Delta Air Lines Inc. (1960 - )\n",
      "4    EV          ExpressJet Airlines Inc. (2012 - )\n",
      "5    EV   Atlantic Southeast Airlines (1993 - 2011)\n",
      "6    F9            Frontier Airlines Inc. (1994 - )\n",
      "7    HA            Hawaiian Airlines Inc. (1960 - )\n",
      "8    MQ                         Envoy Air (2014 - )\n",
      "9    MQ              Simmons Airlines (1991 - 1998)\n",
      "10   MQ  American Eagle Airlines Inc. (1998 - 2014)\n",
      "11   NK                  Spirit Air Lines (1992 - )\n",
      "12   OO             SkyWest Airlines Inc. (2003 - )\n",
      "13   UA             United Air Lines Inc. (1960 - )\n",
      "14   US                         USAir (1988 - 1997)\n",
      "15   US               US Airways Inc. (1997 - 2015)\n",
      "16   VX                    Virgin America (2007 - )\n",
      "17   VX                 Aces Airlines (1992 - 2003)\n",
      "18   WN            Southwest Airlines Co. (1979 - )\n"
     ]
    }
   ],
   "source": [
    "\n",
    "# print dat['CARRIER'].unique()\n",
    "\n",
    "carrier_lookup = pd.read_csv(\"L_CARRIER_HISTORY.csv\")\n",
    "carrier_lookup.columns.values\n",
    "\n",
    "#\n",
    "df1 = pd.DataFrame({'Code': dat['CARRIER'].unique()})\n",
    "result = pd.merge(df1, carrier_lookup, on='Code')\n",
    "print result\n",
    "barChDat = dat.groupby(['CARRIER']).size().reset_index(name='count')\n",
    "\n",
    "#print barChDat.head()\n"
   ]
  },
  {
   "cell_type": "markdown",
   "metadata": {
    "slideshow": {
     "slide_type": "slide"
    }
   },
   "source": [
    "#### "
   ]
  },
  {
   "cell_type": "code",
   "execution_count": 6,
   "metadata": {
    "collapsed": false,
    "slideshow": {
     "slide_type": "fragment"
    }
   },
   "outputs": [
    {
     "data": {
      "text/plain": [
       "<matplotlib.axes._subplots.AxesSubplot at 0xf42e0f0>"
      ]
     },
     "execution_count": 6,
     "metadata": {},
     "output_type": "execute_result"
    },
    {
     "data": {
      "image/png": "[encoded data removed]",
      "text/plain": [
       "<matplotlib.figure.Figure at 0x4052208>"
      ]
     },
     "metadata": {},
     "output_type": "display_data"
    }
   ],
   "source": [
    "barChDat = dat.groupby(['CARRIER']).size().reset_index(name='count')\n",
    "barChDat = barChDat.sort_values(by = ['count'], ascending=[0])\n",
    "\n",
    "barChDat.plot(kind='bar', x = 'CARRIER')\n"
   ]
  },
  {
   "cell_type": "code",
   "execution_count": 7,
   "metadata": {
    "collapsed": false
   },
   "outputs": [
    {
     "data": {
      "text/html": [
       "<div>\n",
       "<table border=\"1\" class=\"dataframe\">\n",
       "  <thead>\n",
       "    <tr style=\"text-align: right;\">\n",
       "      <th></th>\n",
       "      <th>CARRIER</th>\n",
       "      <th>count</th>\n",
       "    </tr>\n",
       "  </thead>\n",
       "  <tbody>\n",
       "    <tr>\n",
       "      <th>13</th>\n",
       "      <td>WN</td>\n",
       "      <td>1261855</td>\n",
       "    </tr>\n",
       "    <tr>\n",
       "      <th>3</th>\n",
       "      <td>DL</td>\n",
       "      <td>875881</td>\n",
       "    </tr>\n",
       "    <tr>\n",
       "      <th>0</th>\n",
       "      <td>AA</td>\n",
       "      <td>725984</td>\n",
       "    </tr>\n",
       "    <tr>\n",
       "      <th>9</th>\n",
       "      <td>OO</td>\n",
       "      <td>588353</td>\n",
       "    </tr>\n",
       "    <tr>\n",
       "      <th>4</th>\n",
       "      <td>EV</td>\n",
       "      <td>571977</td>\n",
       "    </tr>\n",
       "    <tr>\n",
       "      <th>10</th>\n",
       "      <td>UA</td>\n",
       "      <td>515723</td>\n",
       "    </tr>\n",
       "    <tr>\n",
       "      <th>7</th>\n",
       "      <td>MQ</td>\n",
       "      <td>294632</td>\n",
       "    </tr>\n",
       "    <tr>\n",
       "      <th>2</th>\n",
       "      <td>B6</td>\n",
       "      <td>267048</td>\n",
       "    </tr>\n",
       "    <tr>\n",
       "      <th>11</th>\n",
       "      <td>US</td>\n",
       "      <td>198715</td>\n",
       "    </tr>\n",
       "    <tr>\n",
       "      <th>1</th>\n",
       "      <td>AS</td>\n",
       "      <td>172521</td>\n",
       "    </tr>\n",
       "    <tr>\n",
       "      <th>8</th>\n",
       "      <td>NK</td>\n",
       "      <td>117379</td>\n",
       "    </tr>\n",
       "    <tr>\n",
       "      <th>5</th>\n",
       "      <td>F9</td>\n",
       "      <td>90836</td>\n",
       "    </tr>\n",
       "    <tr>\n",
       "      <th>6</th>\n",
       "      <td>HA</td>\n",
       "      <td>76272</td>\n",
       "    </tr>\n",
       "    <tr>\n",
       "      <th>12</th>\n",
       "      <td>VX</td>\n",
       "      <td>61903</td>\n",
       "    </tr>\n",
       "  </tbody>\n",
       "</table>\n",
       "</div>"
      ],
      "text/plain": [
       "   CARRIER    count\n",
       "13      WN  1261855\n",
       "3       DL   875881\n",
       "0       AA   725984\n",
       "9       OO   588353\n",
       "4       EV   571977\n",
       "10      UA   515723\n",
       "7       MQ   294632\n",
       "2       B6   267048\n",
       "11      US   198715\n",
       "1       AS   172521\n",
       "8       NK   117379\n",
       "5       F9    90836\n",
       "6       HA    76272\n",
       "12      VX    61903"
      ]
     },
     "execution_count": 7,
     "metadata": {},
     "output_type": "execute_result"
    }
   ],
   "source": [
    "barChDat"
   ]
  },
  {
   "cell_type": "code",
   "execution_count": 8,
   "metadata": {
    "collapsed": false
   },
   "outputs": [
    {
     "name": "stdout",
     "output_type": "stream",
     "text": [
      "No. of Southwest Airline flights: 1261855\n"
     ]
    }
   ],
   "source": [
    "swDat = dat[dat['CARRIER'] ==\"WN\"]\n",
    "\n",
    "print \"No. of Southwest Airline flights:\", len(swDat)\n"
   ]
  },
  {
   "cell_type": "code",
   "execution_count": 9,
   "metadata": {
    "collapsed": false
   },
   "outputs": [],
   "source": [
    "barChDat = swDat.groupby(['ORIGIN']).size().reset_index(name='count')\n",
    "\n",
    "#p = Bar(barChDat, 'ORIGIN', values='count', title=\"Total Flights from Origin\")\n",
    "#show(p)"
   ]
  },
  {
   "cell_type": "code",
   "execution_count": 10,
   "metadata": {
    "collapsed": false,
    "scrolled": true
   },
   "outputs": [
    {
     "name": "stdout",
     "output_type": "stream",
     "text": [
      "   ORIGIN  count\n",
      "48    MDW  83601\n",
      "40    LAS  74890\n",
      "12    BWI  69868\n",
      "22    DEN  61018\n",
      "62    PHX  58544\n"
     ]
    },
    {
     "name": "stderr",
     "output_type": "stream",
     "text": [
      "c:\\python27\\lib\\site-packages\\ipykernel\\__main__.py:1: FutureWarning: sort(columns=....) is deprecated, use sort_values(by=.....)\n",
      "  if __name__ == '__main__':\n"
     ]
    }
   ],
   "source": [
    "print barChDat.sort(['count'], ascending=[0]).head()\n"
   ]
  },
  {
   "cell_type": "code",
   "execution_count": null,
   "metadata": {
    "collapsed": false,
    "scrolled": true
   },
   "outputs": [],
   "source": []
  },
  {
   "cell_type": "code",
   "execution_count": 11,
   "metadata": {
    "collapsed": false
   },
   "outputs": [],
   "source": [
    "#sumDat =swDat.groupby( \"ORIGIN\" ).count()\n",
    "#sumDat\n",
    "#sumDat = pd.DataFrame(({'clt':sumDat})).reset_index()\n",
    "#sumDat = sumDat.loc[sumDat['flt_count']>50000].sort_values(by=['flt_count'], ascending=False)\n",
    "\n",
    "#sumDat = sumDat[['od','sum_arr_delay']]\n",
    "#sumDat.columns.values\n",
    "#sumDat.plot(kind='bar',x='ORIGIN')"
   ]
  },
  {
   "cell_type": "code",
   "execution_count": null,
   "metadata": {
    "collapsed": false
   },
   "outputs": [],
   "source": [
    "\n"
   ]
  },
  {
   "cell_type": "code",
   "execution_count": 12,
   "metadata": {
    "collapsed": false
   },
   "outputs": [
    {
     "data": {
      "text/plain": [
       "<matplotlib.axes._subplots.AxesSubplot at 0xf446a90>"
      ]
     },
     "execution_count": 12,
     "metadata": {},
     "output_type": "execute_result"
    },
    {
     "data": {
      "image/png": "[encoded data removed]",
      "text/plain": [
       "<matplotlib.figure.Figure at 0xd892630>"
      ]
     },
     "metadata": {},
     "output_type": "display_data"
    }
   ],
   "source": [
    "%matplotlib inline\n",
    "sumDat = pd.DataFrame({'sum_arr_delay': swDat.groupby( [ \"ORIGIN\", \"DEST\"] )[\"ARR_DELAY\"].sum()}).reset_index()\n",
    "sumDat['od'] = sumDat['ORIGIN'] +'-' + sumDat['DEST']\n",
    "sumDat = sumDat.loc[sumDat['sum_arr_delay']>40000].sort_values(by=['sum_arr_delay'], ascending=False)\n",
    "\n",
    "sumDat = sumDat[['od','sum_arr_delay']]\n",
    "\n",
    "sumDat.plot(kind='bar',x='od')"
   ]
  },
  {
   "cell_type": "code",
   "execution_count": null,
   "metadata": {
    "collapsed": false
   },
   "outputs": [],
   "source": []
  },
  {
   "cell_type": "code",
   "execution_count": 13,
   "metadata": {
    "collapsed": false
   },
   "outputs": [
    {
     "data": {
      "text/plain": [
       "<matplotlib.axes._subplots.AxesSubplot at 0x40527f0>"
      ]
     },
     "execution_count": 13,
     "metadata": {},
     "output_type": "execute_result"
    },
    {
     "data": {
      "image/png": "[encoded data removed]",
      "text/plain": [
       "<matplotlib.figure.Figure at 0xd8a8ac8>"
      ]
     },
     "metadata": {},
     "output_type": "display_data"
    }
   ],
   "source": [
    "\n",
    "swDat_2_HOU_DAL = swDat.loc[(swDat['ORIGIN'] ==\"DAL\") & (swDat['DEST'] ==\"HOU\")]\n",
    "swDat_2_HOU_DAL['ARR_DELAY'].hist(bins = 50)\n",
    "#swDat_2_HOU_DAL.head()"
   ]
  },
  {
   "cell_type": "code",
   "execution_count": null,
   "metadata": {
    "collapsed": false,
    "scrolled": true
   },
   "outputs": [],
   "source": []
  },
  {
   "cell_type": "code",
   "execution_count": 14,
   "metadata": {
    "collapsed": false
   },
   "outputs": [
    {
     "data": {
      "text/plain": [
       "<matplotlib.axes._subplots.AxesSubplot at 0x14995c88>"
      ]
     },
     "execution_count": 14,
     "metadata": {},
     "output_type": "execute_result"
    },
    {
     "data": {
      "image/png": "[encoded data removed]",
      "text/plain": [
       "<matplotlib.figure.Figure at 0x10079c50>"
      ]
     },
     "metadata": {},
     "output_type": "display_data"
    }
   ],
   "source": [
    "swDat_DAL_HOU = swDat_2_HOU_DAL = swDat.loc[(swDat['ORIGIN'] ==\"HOU\") & (swDat['DEST'] ==\"DAL\")]\n",
    "swDat_DAL_HOU['ARR_DELAY'].hist(bins = 50)"
   ]
  },
  {
   "cell_type": "code",
   "execution_count": 15,
   "metadata": {
    "collapsed": false
   },
   "outputs": [
    {
     "data": {
      "text/plain": [
       "<matplotlib.axes._subplots.AxesSubplot at 0xc0c5278>"
      ]
     },
     "execution_count": 15,
     "metadata": {},
     "output_type": "execute_result"
    },
    {
     "data": {
      "image/png": "[encoded data removed]",
      "text/plain": [
       "<matplotlib.figure.Figure at 0xfb2da58>"
      ]
     },
     "metadata": {},
     "output_type": "display_data"
    }
   ],
   "source": [
    "swDat_LAX_OAK = swDat.loc[(swDat['ORIGIN'] ==\"LAX\") & (swDat['DEST'] ==\"OAK\")]\n",
    "swDat_LAX_OAK['ARR_DELAY'].hist(bins = 50)"
   ]
  },
  {
   "cell_type": "code",
   "execution_count": null,
   "metadata": {
    "collapsed": false
   },
   "outputs": [],
   "source": []
  },
  {
   "cell_type": "markdown",
   "metadata": {
    "slideshow": {
     "slide_type": "slide"
    }
   },
   "source": [
    "#### Wow, that is a nice fat delay distribution\n",
    "* Let us try fitting a distribution to the arrival delay for OAK LAX flight"
   ]
  },
  {
   "cell_type": "code",
   "execution_count": 16,
   "metadata": {
    "collapsed": false
   },
   "outputs": [
    {
     "data": {
      "text/plain": [
       "<matplotlib.axes._subplots.AxesSubplot at 0x1082bfd0>"
      ]
     },
     "execution_count": 16,
     "metadata": {},
     "output_type": "execute_result"
    },
    {
     "data": {
      "image/png": "[encoded data removed]",
      "text/plain": [
       "<matplotlib.figure.Figure at 0xd8c5dd8>"
      ]
     },
     "metadata": {},
     "output_type": "display_data"
    }
   ],
   "source": [
    "\n",
    "swDat_OAK_LAX = swDat.loc[(swDat['ORIGIN'] ==\"OAK\") & (swDat['DEST'] ==\"LAX\")]\n",
    "swDat_OAK_LAX['ARR_DELAY'].hist(bins = 50)"
   ]
  },
  {
   "cell_type": "code",
   "execution_count": null,
   "metadata": {
    "collapsed": true
   },
   "outputs": [],
   "source": []
  },
  {
   "cell_type": "code",
   "execution_count": 17,
   "metadata": {
    "collapsed": false
   },
   "outputs": [
    {
     "name": "stdout",
     "output_type": "stream",
     "text": [
      "-30.0 231.0\n",
      "11.8452715862 28.6235268734\n"
     ]
    },
    {
     "data": {
      "image/png": "[encoded data removed]",
      "text/plain": [
       "<matplotlib.figure.Figure at 0xcd24c88>"
      ]
     },
     "metadata": {},
     "output_type": "display_data"
    }
   ],
   "source": [
    "len(swDat_OAK_LAX[['ARR_DELAY']])\n",
    "ad_OAK_LAX = swDat_OAK_LAX[['ARR_DELAY']]\n",
    "\n",
    "from scipy import stats  \n",
    "import numpy as np  \n",
    "import matplotlib.pylab as plt\n",
    "\n",
    "xt = ad_OAK_LAX['ARR_DELAY'] #plt.xticks()[0]  \n",
    "xmin, xmax = min(ad_OAK_LAX['ARR_DELAY']), max(ad_OAK_LAX['ARR_DELAY'])  \n",
    "lnspc = np.linspace(xmin, xmax, len(ad_OAK_LAX))\n",
    "print xmin, xmax\n",
    "#print xt\n",
    "arr_list = ad_OAK_LAX['ARR_DELAY'].fillna(0).values.tolist()\n",
    "m, s = stats.norm.fit(arr_list) # get mean and standard deviation  \n",
    "pdf_g = stats.norm.pdf(lnspc, m, s) # now get theoretical values in our interval  \n",
    "plt.plot(lnspc, pdf_g, label=\"Norm\",color = 'r') # plot it\n",
    "print m, s\n",
    "#print arr_list\n",
    "\n",
    "ax = plt.gca()\n",
    "ax2 = ax.twinx()\n",
    "\n",
    "ax2.hist(arr_list, 50)\n",
    "plt.show()  "
   ]
  },
  {
   "cell_type": "code",
   "execution_count": 18,
   "metadata": {
    "collapsed": false
   },
   "outputs": [
    {
     "data": {
      "text/plain": [
       "(array([   7.,   27.,  134.,  351.,  773.,  855.,  592.,  370.,  292.,\n",
       "         252.,  179.,  116.,  110.,  113.,   55.,   50.,   42.,   32.,\n",
       "          46.,   36.,   26.,   22.,   20.,   19.,   11.,    5.,    6.,\n",
       "          14.,    4.,    8.,    7.,    7.,    1.,    5.,    4.,    3.,\n",
       "           5.,    2.,    7.,    1.,    1.,    1.,    1.,    1.,    1.,\n",
       "           1.,    1.,    1.,    2.,    2.]),\n",
       " array([ -30.  ,  -24.78,  -19.56,  -14.34,   -9.12,   -3.9 ,    1.32,\n",
       "           6.54,   11.76,   16.98,   22.2 ,   27.42,   32.64,   37.86,\n",
       "          43.08,   48.3 ,   53.52,   58.74,   63.96,   69.18,   74.4 ,\n",
       "          79.62,   84.84,   90.06,   95.28,  100.5 ,  105.72,  110.94,\n",
       "         116.16,  121.38,  126.6 ,  131.82,  137.04,  142.26,  147.48,\n",
       "         152.7 ,  157.92,  163.14,  168.36,  173.58,  178.8 ,  184.02,\n",
       "         189.24,  194.46,  199.68,  204.9 ,  210.12,  215.34,  220.56,\n",
       "         225.78,  231.  ]),\n",
       " <a list of 50 Patch objects>)"
      ]
     },
     "execution_count": 18,
     "metadata": {},
     "output_type": "execute_result"
    },
    {
     "data": {
      "image/png": "[encoded data removed]",
      "text/plain": [
       "<matplotlib.figure.Figure at 0x12c3d4e0>"
      ]
     },
     "metadata": {},
     "output_type": "display_data"
    }
   ],
   "source": [
    "\n",
    "# exactly same as above\n",
    "ag,bg,cg = stats.gamma.fit(arr_list)  \n",
    "pdf_gamma = stats.gamma.pdf(lnspc, ag, bg,cg)  \n",
    "plt.plot(lnspc, pdf_gamma, label=\"Gamma\",color = 'r')\n",
    "ax = plt.gca()\n",
    "ax2 = ax.twinx()\n",
    "\n",
    "ax2.hist(arr_list, 50)\n"
   ]
  },
  {
   "cell_type": "code",
   "execution_count": 19,
   "metadata": {
    "collapsed": false
   },
   "outputs": [
    {
     "name": "stderr",
     "output_type": "stream",
     "text": [
      "c:\\python27\\lib\\site-packages\\scipy\\optimize\\minpack.py:236: RuntimeWarning: The iteration is not making good progress, as measured by the \n",
      "  improvement from the last ten iterations.\n",
      "  warnings.warn(msg, RuntimeWarning)\n"
     ]
    },
    {
     "data": {
      "text/plain": [
       "(array([   7.,   27.,  134.,  351.,  773.,  855.,  592.,  370.,  292.,\n",
       "         252.,  179.,  116.,  110.,  113.,   55.,   50.,   42.,   32.,\n",
       "          46.,   36.,   26.,   22.,   20.,   19.,   11.,    5.,    6.,\n",
       "          14.,    4.,    8.,    7.,    7.,    1.,    5.,    4.,    3.,\n",
       "           5.,    2.,    7.,    1.,    1.,    1.,    1.,    1.,    1.,\n",
       "           1.,    1.,    1.,    2.,    2.]),\n",
       " array([ -30.  ,  -24.78,  -19.56,  -14.34,   -9.12,   -3.9 ,    1.32,\n",
       "           6.54,   11.76,   16.98,   22.2 ,   27.42,   32.64,   37.86,\n",
       "          43.08,   48.3 ,   53.52,   58.74,   63.96,   69.18,   74.4 ,\n",
       "          79.62,   84.84,   90.06,   95.28,  100.5 ,  105.72,  110.94,\n",
       "         116.16,  121.38,  126.6 ,  131.82,  137.04,  142.26,  147.48,\n",
       "         152.7 ,  157.92,  163.14,  168.36,  173.58,  178.8 ,  184.02,\n",
       "         189.24,  194.46,  199.68,  204.9 ,  210.12,  215.34,  220.56,\n",
       "         225.78,  231.  ]),\n",
       " <a list of 50 Patch objects>)"
      ]
     },
     "execution_count": 19,
     "metadata": {},
     "output_type": "execute_result"
    },
    {
     "data": {
      "image/png": "[encoded data removed]",
      "text/plain": [
       "<matplotlib.figure.Figure at 0xbaaf940>"
      ]
     },
     "metadata": {},
     "output_type": "display_data"
    }
   ],
   "source": [
    "# guess what :) \n",
    "ab,bb,cb,db = stats.beta.fit(arr_list)  \n",
    "pdf_beta = stats.beta.pdf(lnspc, ab, bb,cb, db)  \n",
    "plt.plot(lnspc, pdf_beta, label=\"Beta\",color = 'r')\n",
    "\n",
    "ax = plt.gca()\n",
    "ax2 = ax.twinx()\n",
    "\n",
    "ax2.hist(arr_list, 50)"
   ]
  },
  {
   "cell_type": "code",
   "execution_count": 20,
   "metadata": {
    "collapsed": false
   },
   "outputs": [
    {
     "data": {
      "text/plain": [
       "(array([   7.,   27.,  134.,  351.,  773.,  855.,  592.,  370.,  292.,\n",
       "         252.,  179.,  116.,  110.,  113.,   55.,   50.,   42.,   32.,\n",
       "          46.,   36.,   26.,   22.,   20.,   19.,   11.,    5.,    6.,\n",
       "          14.,    4.,    8.,    7.,    7.,    1.,    5.,    4.,    3.,\n",
       "           5.,    2.,    7.,    1.,    1.,    1.,    1.,    1.,    1.,\n",
       "           1.,    1.,    1.,    2.,    2.]),\n",
       " array([ -30.  ,  -24.78,  -19.56,  -14.34,   -9.12,   -3.9 ,    1.32,\n",
       "           6.54,   11.76,   16.98,   22.2 ,   27.42,   32.64,   37.86,\n",
       "          43.08,   48.3 ,   53.52,   58.74,   63.96,   69.18,   74.4 ,\n",
       "          79.62,   84.84,   90.06,   95.28,  100.5 ,  105.72,  110.94,\n",
       "         116.16,  121.38,  126.6 ,  131.82,  137.04,  142.26,  147.48,\n",
       "         152.7 ,  157.92,  163.14,  168.36,  173.58,  178.8 ,  184.02,\n",
       "         189.24,  194.46,  199.68,  204.9 ,  210.12,  215.34,  220.56,\n",
       "         225.78,  231.  ]),\n",
       " <a list of 50 Patch objects>)"
      ]
     },
     "execution_count": 20,
     "metadata": {},
     "output_type": "execute_result"
    },
    {
     "data": {
      "image/png": "[encoded data removed]",
      "text/plain": [
       "<matplotlib.figure.Figure at 0xe0840b8>"
      ]
     },
     "metadata": {},
     "output_type": "display_data"
    }
   ],
   "source": [
    "# guess what :) \n",
    "ab,bb,cb = stats.lognorm.fit(arr_list)  \n",
    "pdf_lognormal = stats.lognorm.pdf(lnspc, ab,bb,cb)  \n",
    "plt.plot(lnspc, pdf_lognormal, label=\"Lognormal\",color = 'r')\n",
    "\n",
    "ax = plt.gca()\n",
    "ax2 = ax.twinx()\n",
    "\n",
    "ax2.hist(arr_list, 50)"
   ]
  },
  {
   "cell_type": "code",
   "execution_count": 21,
   "metadata": {
    "collapsed": false
   },
   "outputs": [
    {
     "data": {
      "text/plain": [
       "[<matplotlib.lines.Line2D at 0xdb1c470>]"
      ]
     },
     "execution_count": 21,
     "metadata": {},
     "output_type": "execute_result"
    },
    {
     "data": {
      "image/png": "[encoded data removed]",
      "text/plain": [
       "<matplotlib.figure.Figure at 0xcaadc50>"
      ]
     },
     "metadata": {},
     "output_type": "display_data"
    }
   ],
   "source": [
    "# guess what :) \n",
    "ab,bb,cb = stats.t.fit(arr_list)  \n",
    "pdf_t = stats.t.pdf(lnspc, ab,bb,cb)  \n",
    "plt.plot(lnspc, pdf_t, label=\"Lognormal\", color = 'r')\n",
    "\n",
    "ax = plt.gca()\n",
    "ax2 = ax.twinx()\n",
    "\n",
    "ax2.hist(arr_list, 50)\n",
    "ax.plot(lnspc, pdf_t, label=\"Lognormal\", color = 'r')"
   ]
  },
  {
   "cell_type": "code",
   "execution_count": 22,
   "metadata": {
    "collapsed": false
   },
   "outputs": [
    {
     "name": "stdout",
     "output_type": "stream",
     "text": [
      "('lognorm', 0.088869556072181166, 3.9925138616586594e-32, (0.52456573414818619, -30.809347303865493, 36.623026762324329))\n"
     ]
    }
   ],
   "source": [
    "DEBUG_LEVEL = 0\n",
    "\n",
    "def getParam (arr_list, dist):\n",
    "    if dist == 'norm':\n",
    "        distParam = stats.norm.fit(arr_list)\n",
    "    elif dist == 'lognorm':\n",
    "        distParam = stats.lognorm.fit(arr_list)\n",
    "    elif dist == 'beta':\n",
    "        distParam = stats.beta.fit(arr_list)\n",
    "    elif dist == 'gamma':\n",
    "        distParam = stats.gamma.fit(arr_list)\n",
    "    elif dist == 't':\n",
    "        distParam = stats.t.fit(arr_list)\n",
    "    return distParam\n",
    "# Just cause i am lazy, have created a function below that fits each distribution and selects the distribution \n",
    "# based on Kalmogorov-Smirnov Goodness of Fit test. \n",
    "\n",
    "def fitBestDistBasedOnKS(x):\n",
    "    listOfDist = ['norm', 'lognorm', 'beta', 'gamma', 't']\n",
    "    \n",
    "    dStat = sys.maxint \n",
    "    pVal = sys.maxint\n",
    "    selected_dist = \"\"\n",
    "    dP = None\n",
    "    for dist in listOfDist:\n",
    "        distParam = getParam(x, dist)\n",
    "        (temp_dStat, temp_pVal) = stats.kstest(x, dist, distParam)\n",
    "        \n",
    "        if DEBUG_LEVEL > 4:\n",
    "            print dist, (temp_dStat, temp_pVal)\n",
    "        \n",
    "        if temp_pVal < 0.05 and temp_dStat < dStat:\n",
    "            dStat = temp_dStat\n",
    "            pVal = temp_pVal\n",
    "            selected_dist = dist\n",
    "            dP = distParam\n",
    "            \n",
    "    return (selected_dist, dStat, pVal, dP)\n",
    "\n",
    "print fitBestDistBasedOnKS(arr_list)\n"
   ]
  },
  {
   "cell_type": "markdown",
   "metadata": {},
   "source": [
    "#### Seasonality in the components of delay\n",
    "1. Components of total Arrival Delay:\n",
    "    - Departure delay (Ground Delay)\n",
    "    - Taxi Out Delay\n",
    "    - Flight Delay\n",
    "    - Taxi In Delay\n",
    "    - Not to forget, cascading delay from previous flight\n",
    "2. Based on personal experience, we all know that delay get worse during summer, the holidays and winters. Hence, there seems to be seasonality. \n",
    "3. Also, delay is much worse at the morning and evening times at the airport. But, during the day, the operations staff have more resources to manage on-time performance. \n",
    "4. Also, the jet streams tend to change directions during seasons, this could impact the flight delay\n",
    "\n",
    "#### How should we deal with them?\n",
    "1. \n",
    "2. A set of simplifying assumptions\n",
    "    * Let's carve out Departure Delay and Non-departure delay from total arrival delay. And, create Departure Delay distribution for every airport. And, create Non-departure delay distribution for each origin-destination pair. [This seems to have yileded decent results.]()\n",
    "    * Let's create Departure Delay Distributions for each part of the day (0200-0400, 0400-0800, 0800-1200, 1200-1600, 1600-2000, 2000-0000). And, for each month of the year. This seperation should address (a) delay during the day and (b) seasonality during the year.\n",
    "    * Let's create non-departure delay distribution and split it up in the same manner. \n",
    "    * \n"
   ]
  },
  {
   "cell_type": "code",
   "execution_count": 23,
   "metadata": {
    "collapsed": false
   },
   "outputs": [
    {
     "name": "stderr",
     "output_type": "stream",
     "text": [
      "c:\\python27\\lib\\site-packages\\ipykernel\\__main__.py:1: SettingWithCopyWarning: \n",
      "A value is trying to be set on a copy of a slice from a DataFrame.\n",
      "Try using .loc[row_indexer,col_indexer] = value instead\n",
      "\n",
      "See the caveats in the documentation: http://pandas.pydata.org/pandas-docs/stable/indexing.html#indexing-view-versus-copy\n",
      "  if __name__ == '__main__':\n"
     ]
    }
   ],
   "source": [
    "swDat['ODPair'] = swDat['ORIGIN'] +'-' + swDat['DEST']"
   ]
  },
  {
   "cell_type": "code",
   "execution_count": 24,
   "metadata": {
    "collapsed": false
   },
   "outputs": [
    {
     "data": {
      "text/plain": [
       "array(['YEAR', 'QUARTER', 'MONTH', 'DAY_OF_MONTH', 'DAY_OF_WEEK',\n",
       "       'FL_DATE', 'UNIQUE_CARRIER', 'CARRIER', 'TAIL_NUM', 'FL_NUM',\n",
       "       'ORIGIN_AIRPORT_ID', 'ORIGIN_AIRPORT_SEQ_ID',\n",
       "       'ORIGIN_CITY_MARKET_ID', 'ORIGIN', 'DEST_AIRPORT_ID',\n",
       "       'DEST_AIRPORT_SEQ_ID', 'DEST_CITY_MARKET_ID', 'DEST', 'DEP_TIME',\n",
       "       'DEP_DELAY', 'DEP_DELAY_NEW', 'DEP_DEL15', 'DEP_TIME_BLK',\n",
       "       'TAXI_OUT', 'WHEELS_OFF', 'WHEELS_ON', 'TAXI_IN', 'ARR_TIME',\n",
       "       'ARR_DELAY', 'ARR_DELAY_NEW', 'ARR_DEL15', 'ARR_TIME_BLK',\n",
       "       'CANCELLED', 'CANCELLATION_CODE', 'DIVERTED', 'Unnamed: 35',\n",
       "       'ODPair'], dtype=object)"
      ]
     },
     "execution_count": 24,
     "metadata": {},
     "output_type": "execute_result"
    }
   ],
   "source": [
    "swDat.columns.values\n",
    "\n",
    "#swDat = pd.DataFrame({'sum_arr_delay': swDat.groupby( [ \"ORIGIN\", \"DEST\"] )[\"ARR_DELAY\"].sum()}).reset_index()\n",
    "\n"
   ]
  },
  {
   "cell_type": "code",
   "execution_count": 25,
   "metadata": {
    "collapsed": false
   },
   "outputs": [
    {
     "name": "stdout",
     "output_type": "stream",
     "text": [
      "No. of distributions examined 1334\n"
     ]
    },
    {
     "name": "stderr",
     "output_type": "stream",
     "text": [
      "c:\\python27\\lib\\site-packages\\scipy\\optimize\\minpack.py:236: RuntimeWarning: The iteration is not making good progress, as measured by the \n",
      "  improvement from the last five Jacobian evaluations.\n",
      "  warnings.warn(msg, RuntimeWarning)\n"
     ]
    },
    {
     "name": "stdout",
     "output_type": "stream",
     "text": [
      "* 134 10.0 0.100449775112 10\n",
      "* 267 20.0 0.200149925037 20\n",
      "* 401 30.0 0.30059970015 30\n",
      "* 534 40.0 0.400299850075 40\n",
      "* 667 50.0 0.5 50\n",
      "* 801 60.0 0.600449775112 60\n",
      "* 934 70.0 0.700149925037 70\n",
      "* 1068 80.0 0.80059970015 80\n",
      "* 1201 90.0 0.900299850075 90\n"
     ]
    }
   ],
   "source": [
    "#sumDat.columns.values\n",
    "import math\n",
    "def arrivalDelayForAllODPairs(df):\n",
    "    \n",
    "    odPairList = df['ODPair'].unique()\n",
    "    limit = len(odPairList)\n",
    "    arrDelayDF = pd.DataFrame()\n",
    "    i = 0\n",
    "    modval = 10\n",
    "        \n",
    "    print \"No. of distributions examined\", limit\n",
    "    for odPair in odPairList:\n",
    "        \n",
    "        tempDat = df.loc[(df['ODPair'] ==odPair)]\n",
    "        \n",
    "        origin = tempDat['ORIGIN'].unique()[0]\n",
    "        dest = tempDat['DEST'].unique()[0]\n",
    "        #print odPair, origin, dest, len(tempDat)\n",
    "        \n",
    "        arr_list = tempDat['ARR_DELAY'].fillna(0).values.tolist()\n",
    "        \n",
    "        opt = list(fitBestDistBasedOnKS(arr_list))\n",
    "        #print odPair, opt\n",
    "        \n",
    "        params = None\n",
    "        if opt!=None and opt[3]!=None:\n",
    "            params = list(opt[3])\n",
    "\n",
    "        datDict = {\n",
    "            'ORIGIN': None\n",
    "            , 'DEST': None\n",
    "            , 'DIST': None\n",
    "            , 'DStat': None\n",
    "            , 'p1': None\n",
    "            , 'p2': None\n",
    "            , 'p3': None\n",
    "            , 'p4': None\n",
    "            , 'p5': None\n",
    "            , 'len': None\n",
    "        }\n",
    "        datDict['ORIGIN'] = origin \n",
    "        datDict['DEST'] = dest \n",
    "        \n",
    "        if opt != None and len(opt) > 0:\n",
    "            datDict['DIST'] = opt[0]\n",
    "        \n",
    "        if opt != None and len(opt) > 1:\n",
    "            datDict['DStat'] = opt[1]\n",
    "        \n",
    "        if opt != None and len(opt) > 2:\n",
    "            datDict['pval'] = opt[2]\n",
    "        \n",
    "        if params != None and len(params) > 0:\n",
    "            datDict['p1'] = params[0]\n",
    "        \n",
    "        if params != None and len(params) > 1:\n",
    "            datDict['p2'] = params[1]\n",
    "        \n",
    "        if params != None and len(params) > 2:\n",
    "            datDict['p3'] = params[2]\n",
    "        \n",
    "        if params != None and len(params) > 3:\n",
    "            datDict['p4'] = params[3]\n",
    "        \n",
    "        if params != None and len(params) > 4:\n",
    "            datDict['p5'] = params[4]\n",
    "        \n",
    "        datDict ['len'] = len(tempDat)\n",
    "        #print datDict\n",
    "        arrDelayDF = arrDelayDF.append(datDict, ignore_index=True)\n",
    "        \n",
    "        val = math.floor((i * 100.0 / limit))\n",
    "\n",
    "        if val > 0.0 and val == modval:\n",
    "            print \"*\", #i, val, i *1.0/limit, modval\n",
    "            modval = modval + 10\n",
    "        i +=1\n",
    "        \n",
    "    return arrDelayDF\n",
    "\n",
    "distDF = arrivalDelayForAllODPairs(swDat)\n",
    "\n",
    "\n"
   ]
  },
  {
   "cell_type": "code",
   "execution_count": 30,
   "metadata": {
    "collapsed": false
   },
   "outputs": [
    {
     "name": "stdout",
     "output_type": "stream",
     "text": [
      "Share of OD-Pair with no parametric fits 2.47376311844%\n"
     ]
    }
   ],
   "source": [
    "#distDF\n",
    "#print len(distDF)\n",
    "temp = distDF.loc[(distDF['DIST'] =='')]\n",
    "print 'Share of OD-Pair with no parametric fits', str(100.0*len(temp)/len(distDF)) + \"%\""
   ]
  },
  {
   "cell_type": "code",
   "execution_count": 27,
   "metadata": {
    "collapsed": false
   },
   "outputs": [
    {
     "data": {
      "text/plain": [
       "array(['ATL-FLL', 'ATL-HOU', 'ATL-IND', ..., 'MEM-AUS', 'OKC-FLL',\n",
       "       'DTW-MCO'], dtype=object)"
      ]
     },
     "execution_count": 27,
     "metadata": {},
     "output_type": "execute_result"
    }
   ],
   "source": [
    "swDat['ODPair'].unique()"
   ]
  },
  {
   "cell_type": "code",
   "execution_count": 28,
   "metadata": {
    "collapsed": false
   },
   "outputs": [
    {
     "name": "stdout",
     "output_type": "stream",
     "text": [
      "('', 2147483647, 2147483647, None)\n"
     ]
    },
    {
     "data": {
      "image/png": "[encoded data removed]",
      "text/plain": [
       "<matplotlib.figure.Figure at 0xcd5ac18>"
      ]
     },
     "metadata": {},
     "output_type": "display_data"
    }
   ],
   "source": [
    "swDat_FLL_ATL = swDat.loc[(swDat['ORIGIN'] ==\"MDW\") & (swDat['DEST'] ==\"GEG\")]\n",
    "swDat_FLL_ATL['ARR_DELAY'].hist(bins = 50)\n",
    "arr_list = swDat_FLL_ATL['ARR_DELAY'].fillna(0).values.tolist()\n",
    "\n",
    "print fitBestDistBasedOnKS(arr_list)\n",
    "#ATL-PHX ['t', 0.19001017830334915, 0.0, (1.7034222193530859, -6.086542982948659, 11.168336608775524)]"
   ]
  },
  {
   "cell_type": "code",
   "execution_count": 29,
   "metadata": {
    "collapsed": false
   },
   "outputs": [
    {
     "name": "stdout",
     "output_type": "stream",
     "text": [
      "('beta', 0.12337954330652356, 0.0, (2.2847948168701073, 11076757528.14045, -32.168965783049345, 183759930221.90131))\n"
     ]
    },
    {
     "data": {
      "image/png": "[encoded data removed]",
      "text/plain": [
       "<matplotlib.figure.Figure at 0x148b8fd0>"
      ]
     },
     "metadata": {},
     "output_type": "display_data"
    }
   ],
   "source": [
    "swDat_FLL_ATL = swDat.loc[(swDat['ORIGIN'] ==\"ATL\") & (swDat['DEST'] ==\"FLL\")].copy()\n",
    "swDat_FLL_ATL['ARR_DELAY'].hist(bins = 50)\n",
    "arr_list = swDat_FLL_ATL['ARR_DELAY'].fillna(0).values.tolist()\n",
    "\n",
    "print fitBestDistBasedOnKS(arr_list)"
   ]
  },
  {
   "cell_type": "code",
   "execution_count": null,
   "metadata": {
    "collapsed": false
   },
   "outputs": [],
   "source": []
  },
  {
   "cell_type": "code",
   "execution_count": 117,
   "metadata": {
    "collapsed": false
   },
   "outputs": [
    {
     "name": "stdout",
     "output_type": "stream",
     "text": [
      "('lognorm', 0.13368016918433934, 1.0463031140706266e-68, (0.74103569689246096, 97.555833162873483, 23.504533932528389))\n"
     ]
    },
    {
     "data": {
      "image/png": "[encoded data removed]",
      "text/plain": [
       "<matplotlib.figure.Figure at 0xe7d63940>"
      ]
     },
     "metadata": {},
     "output_type": "display_data"
    }
   ],
   "source": [
    "swDat_OAK_LAX_air = dat.loc[((dat['ORIGIN']==\"OAK\")&(dat['DEST']==\"LAX\")&(dat['CARRIER'] ==\"WN\")& (dat['FLT_DELAY'] > -1000))].copy()\n",
    "\n",
    "arr_list = swDat_OAK_LAX_air['FLT_DELAY'].fillna(0).values.tolist()\n",
    "swDat_OAK_LAX_air['FLT_DELAY'].hist(bins = 50)\n",
    "print fitBestDistBasedOnKS(arr_list)"
   ]
  },
  {
   "cell_type": "code",
   "execution_count": 118,
   "metadata": {
    "collapsed": false
   },
   "outputs": [
    {
     "name": "stdout",
     "output_type": "stream",
     "text": [
      "('t', 0.090292298878228761, 1.3903170022030007e-31, (1.2935718689093783, 95.945033894799479, 2.6441245768255559))\n"
     ]
    },
    {
     "data": {
      "image/png": "[encoded data removed]",
      "text/plain": [
       "<matplotlib.figure.Figure at 0xffbbaa90>"
      ]
     },
     "metadata": {},
     "output_type": "display_data"
    }
   ],
   "source": [
    "#\n",
    "#np.subtract(swDat_OAK_LAX['ARR_TIME'], swDat_OAK_LAX['DEP_TIME'])\n",
    "month = 5\n",
    "\n",
    "swDat_OAK_LAX_air = dat.loc[((dat['ORIGIN']==\"OAK\")&(dat['DEST']==\"LAX\")&(dat['CARRIER'] ==\"WN\")& (dat['AIR_DELAY'] > -1000))].copy()\n",
    "\n",
    "arr_list = swDat_OAK_LAX_air['AIR_DELAY'].fillna(0).values.tolist()\n",
    "swDat_OAK_LAX_air['AIR_DELAY'].hist(bins = 50)\n",
    "print fitBestDistBasedOnKS(arr_list)"
   ]
  },
  {
   "cell_type": "code",
   "execution_count": 119,
   "metadata": {
    "collapsed": false
   },
   "outputs": [
    {
     "name": "stdout",
     "output_type": "stream",
     "text": [
      "('lognorm', 0.1970372486824416, 4.1834614527446801e-149, (0.95531453765511742, 1.9443125634614562, 6.690566149760226))\n"
     ]
    },
    {
     "data": {
      "image/png": "[encoded data removed]",
      "text/plain": [
       "<matplotlib.figure.Figure at 0x11aab3c8>"
      ]
     },
     "metadata": {},
     "output_type": "display_data"
    }
   ],
   "source": [
    "\n",
    "swDat_OAK_LAX_air = dat.loc[((dat['ORIGIN']==\"OAK\")&(dat['DEST']==\"LAX\")&(dat['CARRIER'] ==\"WN\")& (dat['TAXI_IN_DELAY'] > -1000))].copy()\n",
    "\n",
    "arr_list = swDat_OAK_LAX_air['TAXI_IN_DELAY'].fillna(0).values.tolist()\n",
    "swDat_OAK_LAX_air['TAXI_IN_DELAY'].hist(bins = 50)\n",
    "print fitBestDistBasedOnKS(arr_list)"
   ]
  },
  {
   "cell_type": "code",
   "execution_count": 120,
   "metadata": {
    "collapsed": false
   },
   "outputs": [
    {
     "name": "stdout",
     "output_type": "stream",
     "text": [
      "('lognorm', 0.13752668685091307, 7.1277721968149097e-73, (1.0340136048575967, 3.8912361622101663, 9.8912478270124566))\n"
     ]
    },
    {
     "data": {
      "image/png": "[encoded data removed]",
      "text/plain": [
       "<matplotlib.figure.Figure at 0x1661fa320>"
      ]
     },
     "metadata": {},
     "output_type": "display_data"
    }
   ],
   "source": [
    "\n",
    "swDat_OAK_LAX_air = dat.loc[((dat['ORIGIN']==\"OAK\")&(dat['DEST']==\"LAX\")&(dat['CARRIER'] ==\"WN\")& (dat['TAXI_OUT_DELAY'] > -1000))].copy()\n",
    "\n",
    "arr_list = swDat_OAK_LAX_air['TAXI_OUT_DELAY'].fillna(0).values.tolist()\n",
    "swDat_OAK_LAX_air['TAXI_OUT_DELAY'].hist(bins = 50)\n",
    "print fitBestDistBasedOnKS(arr_list)"
   ]
  },
  {
   "cell_type": "code",
   "execution_count": null,
   "metadata": {
    "collapsed": true
   },
   "outputs": [],
   "source": []
  },
  {
   "cell_type": "code",
   "execution_count": 87,
   "metadata": {
    "collapsed": false
   },
   "outputs": [
    {
     "data": {
      "text/plain": [
       "<matplotlib.axes._subplots.AxesSubplot at 0xf9736860>"
      ]
     },
     "execution_count": 87,
     "metadata": {},
     "output_type": "execute_result"
    },
    {
     "data": {
      "image/png": "[encoded data removed]",
      "text/plain": [
       "<matplotlib.figure.Figure at 0x93ceb0b8>"
      ]
     },
     "metadata": {},
     "output_type": "display_data"
    }
   ],
   "source": [
    "temp = swDat_OAK_LAX_tp_1.copy()\n",
    "#temp['TAIL_NUM'].hist(bins = 50)\n",
    "\n",
    "barChDat = swDat_OAK_LAX_tp_1.groupby(['DEP_TIME_BLK']).size().reset_index(name='count')\n",
    "barChDat = barChDat.sort_values(by = ['count'], ascending=[0])\n",
    "\n",
    "barChDat.plot(kind='bar', x = 'DEP_TIME_BLK')\n",
    "\n",
    "#len(barChDat)"
   ]
  },
  {
   "cell_type": "code",
   "execution_count": 121,
   "metadata": {
    "collapsed": false
   },
   "outputs": [],
   "source": [
    "from sklearn.neighbors import KernelDensity\n",
    "from scipy.stats import gaussian_kde\n",
    "from statsmodels.nonparametric.kde import KDEUnivariate\n",
    "from statsmodels.nonparametric.kernel_density import KDEMultivariate\n",
    "\n",
    "\n",
    "def kde_scipy(x, x_grid, bandwidth=0.2, **kwargs):\n",
    "    \"\"\"Kernel Density Estimation with Scipy\"\"\"\n",
    "    # Note that scipy weights its bandwidth by the covariance of the\n",
    "    # input data.  To make the results comparable to the other methods,\n",
    "    # we divide the bandwidth by the sample standard deviation here.\n",
    "    kde = gaussian_kde(x, bw_method=bandwidth / x.std(ddof=1), **kwargs)\n",
    "    return kde.evaluate(x_grid)\n",
    "\n",
    "\n",
    "def kde_statsmodels_u(x, x_grid, bandwidth=0.2, **kwargs):\n",
    "    \"\"\"Univariate Kernel Density Estimation with Statsmodels\"\"\"\n",
    "    kde = KDEUnivariate(x)\n",
    "    kde.fit(bw=bandwidth, **kwargs)\n",
    "    return kde.evaluate(x_grid)\n",
    "    \n",
    "    \n",
    "def kde_statsmodels_m(x, x_grid, bandwidth=0.2, **kwargs):\n",
    "    \"\"\"Multivariate Kernel Density Estimation with Statsmodels\"\"\"\n",
    "    kde = KDEMultivariate(x, bw=bandwidth * np.ones_like(x),\n",
    "                          var_type='c', **kwargs)\n",
    "    return kde.pdf(x_grid)\n",
    "\n",
    "\n",
    "def kde_sklearn(x, x_grid, bandwidth=0.2, **kwargs):\n",
    "    \"\"\"Kernel Density Estimation with Scikit-learn\"\"\"\n",
    "    kde_skl = KernelDensity(bandwidth=bandwidth, **kwargs)\n",
    "    kde_skl.fit(x[:, np.newaxis])\n",
    "    # score_samples() returns the log-likelihood of the samples\n",
    "    log_pdf = kde_skl.score_samples(x_grid[:, np.newaxis])\n",
    "    return np.exp(log_pdf)\n",
    "\n",
    "\n",
    "kde_funcs = [kde_statsmodels_u, kde_statsmodels_m, kde_scipy, kde_sklearn]\n",
    "\n",
    "kde_funcnames = ['Statsmodels-U', 'Statsmodels-M', 'Scipy', 'Scikit-learn']"
   ]
  },
  {
   "cell_type": "code",
   "execution_count": null,
   "metadata": {
    "collapsed": true
   },
   "outputs": [],
   "source": [
    "\n",
    "swDat_OAK_LAX_air = dat.loc[((dat['ORIGIN']==\"OAK\")&(dat['DEST']==\"LAX\")&(dat['CARRIER'] ==\"WN\")& (dat['FLT_DELAY'] > -1000))].copy()\n",
    "\n",
    "arr_list = swDat_OAK_LAX_air['FLT_DELAY'].fillna(0).values.tolist()\n",
    "\n",
    "xmin, xmax = min(arr_list), max(arr_list)  \n",
    "lnspc = np.linspace(xmin, xmax, len(arr_list))\n",
    "\n",
    "#swDat_OAK_LAX_air['FLT_DELAY'].hist(bins = 50)\n",
    "#print fitBestDistBasedOnKS(arr_list)"
   ]
  },
  {
   "cell_type": "code",
   "execution_count": 131,
   "metadata": {
    "collapsed": false
   },
   "outputs": [
    {
     "data": {
      "image/png": "[encoded data removed]",
      "text/plain": [
       "<matplotlib.figure.Figure at 0xa31175c0>"
      ]
     },
     "metadata": {},
     "output_type": "display_data"
    }
   ],
   "source": [
    "fig, ax = plt.subplots(1, 2, sharey=True,\n",
    "                       figsize=(13, 3))\n",
    "fig.subplots_adjust(wspace=0)\n",
    "\n",
    "for i in range(0,2):\n",
    "    pdf = kde_funcs[i](arr_list, lnspc, bandwidth=0.2)\n",
    "    ax[i].plot(lnspc, pdf, color='blue', alpha=0.5, lw=3)\n",
    "    #ax[i].fill(lnspc, pdf_true, ec='gray', fc='gray', alpha=0.4)\n",
    "    ax[i].set_title(kde_funcnames[i])\n",
    "    ax[i].set_xlim(xmin, xmax)\n",
    "    #print pdf"
   ]
  },
  {
   "cell_type": "code",
   "execution_count": 141,
   "metadata": {
    "collapsed": false
   },
   "outputs": [
    {
     "data": {
      "text/plain": [
       "(array([  6.16000000e+02,   1.27000000e+03,   8.90000000e+02,\n",
       "          3.07000000e+02,   2.12000000e+02,   5.90000000e+01,\n",
       "          3.20000000e+01,   3.80000000e+01,   8.00000000e+00,\n",
       "          6.00000000e+00,   3.00000000e+00,   7.00000000e+00,\n",
       "          1.47000000e+02,   2.32000000e+02,   2.14000000e+02,\n",
       "          1.11000000e+02,   9.50000000e+01,   4.60000000e+01,\n",
       "          3.70000000e+01,   3.60000000e+01,   1.40000000e+01,\n",
       "          1.10000000e+01,   4.00000000e+00,   3.00000000e+00,\n",
       "          5.00000000e+00,   2.00000000e+00,   1.00000000e+00,\n",
       "          2.00000000e+00,   0.00000000e+00,   0.00000000e+00,\n",
       "          0.00000000e+00,   0.00000000e+00,   0.00000000e+00,\n",
       "          0.00000000e+00,   0.00000000e+00,   0.00000000e+00,\n",
       "          0.00000000e+00,   0.00000000e+00,   0.00000000e+00,\n",
       "          0.00000000e+00,   0.00000000e+00,   0.00000000e+00,\n",
       "          0.00000000e+00,   1.00000000e+00,   0.00000000e+00,\n",
       "          0.00000000e+00,   0.00000000e+00,   0.00000000e+00,\n",
       "          0.00000000e+00,   1.00000000e+00]),\n",
       " array([   4.  ,    7.42,   10.84,   14.26,   17.68,   21.1 ,   24.52,\n",
       "          27.94,   31.36,   34.78,   38.2 ,   41.62,   45.04,   48.46,\n",
       "          51.88,   55.3 ,   58.72,   62.14,   65.56,   68.98,   72.4 ,\n",
       "          75.82,   79.24,   82.66,   86.08,   89.5 ,   92.92,   96.34,\n",
       "          99.76,  103.18,  106.6 ,  110.02,  113.44,  116.86,  120.28,\n",
       "         123.7 ,  127.12,  130.54,  133.96,  137.38,  140.8 ,  144.22,\n",
       "         147.64,  151.06,  154.48,  157.9 ,  161.32,  164.74,  168.16,\n",
       "         171.58,  175.  ]),\n",
       " <a list of 50 Patch objects>)"
      ]
     },
     "execution_count": 141,
     "metadata": {},
     "output_type": "execute_result"
    },
    {
     "data": {
      "image/png": "[encoded data removed]",
      "text/plain": [
       "<matplotlib.figure.Figure at 0xc2c2a748>"
      ]
     },
     "metadata": {},
     "output_type": "display_data"
    }
   ],
   "source": [
    "#fig, ax = plt.subplots(1, 2, sharey=True,\n",
    "#                       figsize=(13, 3))\n",
    "#fig.subplots_adjust(wspace=0)\n",
    "ax = plt.gca()\n",
    "\n",
    "for i in range(0,2):\n",
    "    pdf = kde_funcs[i](arr_list, lnspc, bandwidth=0.2)\n",
    "    ax.plot(lnspc, pdf, color='red', alpha=0.5, lw=3)\n",
    "    #ax[i].fill(lnspc, pdf_true, ec='gray', fc='gray', alpha=0.4)\n",
    "    #plt.set_title(kde_funcnames[i])\n",
    "    #plt.set_xlim(xmin, xmax)\n",
    "    #print pdf\n",
    "\n",
    "ax2 = ax.twinx()\n",
    "\n",
    "ax2.hist(arr_list, bins=50, alpha = 0.4)\n"
   ]
  },
  {
   "cell_type": "code",
   "execution_count": 84,
   "metadata": {
    "collapsed": false
   },
   "outputs": [],
   "source": [
    "#print_full(temp)"
   ]
  },
  {
   "cell_type": "code",
   "execution_count": 45,
   "metadata": {
    "collapsed": false
   },
   "outputs": [],
   "source": [
    "def print_full(x):\n",
    "    pd.set_option('display.max_rows', len(x))\n",
    "    print(x)\n",
    "    pd.reset_option('display.max_rows')\n",
    "#print_full(swDat_OAK_LAX['FLT_DELAY'])"
   ]
  },
  {
   "cell_type": "code",
   "execution_count": 47,
   "metadata": {
    "collapsed": false
   },
   "outputs": [
    {
     "name": "stdout",
     "output_type": "stream",
     "text": [
      "1.02952305729 114.959784129 7.86116764008\n"
     ]
    },
    {
     "data": {
      "image/png": "[encoded data removed]",
      "text/plain": [
       "<matplotlib.figure.Figure at 0xf2ad6940>"
      ]
     },
     "metadata": {},
     "output_type": "display_data"
    }
   ],
   "source": [
    "ab,bb,cb = stats.t.fit(arr_list)  \n",
    "pdf_t = stats.t.pdf(lnspc, ab,bb,cb)  \n",
    "plt.plot(lnspc, pdf_t, label=\"Lognormal\", color = 'r')\n",
    "\n",
    "ax = plt.gca()\n",
    "ax2 = ax.twinx()\n",
    "\n",
    "ax2.hist(arr_list, 50)\n",
    "ax.plot(lnspc, pdf_t, label=\"Lognormal\", color = 'r')\n",
    "\n",
    "print ab,bb,cb"
   ]
  },
  {
   "cell_type": "code",
   "execution_count": 58,
   "metadata": {
    "collapsed": false
   },
   "outputs": [],
   "source": [
    "\n",
    "#table\n",
    "#df"
   ]
  },
  {
   "cell_type": "code",
   "execution_count": null,
   "metadata": {
    "collapsed": true
   },
   "outputs": [],
   "source": []
  },
  {
   "cell_type": "code",
   "execution_count": 142,
   "metadata": {
    "collapsed": false
   },
   "outputs": [
    {
     "name": "stdout",
     "output_type": "stream",
     "text": [
      "('lognorm', 0.16421384535484945, 1.017798909791373e-103, (0.74821004581002049, -12.085861216402499, 17.156190811196737))\n"
     ]
    },
    {
     "data": {
      "image/png": "[encoded data removed]",
      "text/plain": [
       "<matplotlib.figure.Figure at 0xb6af438>"
      ]
     },
     "metadata": {},
     "output_type": "display_data"
    }
   ],
   "source": [
    "swDat_OAK_LAX_air = dat.loc[((dat['ORIGIN']==\"OAK\")&(dat['DEST']==\"LAX\")&(dat['CARRIER'] ==\"WN\")& (dat['DEP_DELAY'] > -1000))].copy()\n",
    "\n",
    "arr_list = swDat_OAK_LAX_air['DEP_DELAY'].fillna(0).values.tolist()\n",
    "swDat_OAK_LAX_air['DEP_DELAY'].hist(bins = 50)\n",
    "print fitBestDistBasedOnKS(arr_list)"
   ]
  },
  {
   "cell_type": "code",
   "execution_count": null,
   "metadata": {
    "collapsed": true
   },
   "outputs": [],
   "source": []
  },
  {
   "cell_type": "code",
   "execution_count": null,
   "metadata": {
    "collapsed": true
   },
   "outputs": [],
   "source": []
  },
  {
   "cell_type": "code",
   "execution_count": 59,
   "metadata": {
    "collapsed": false
   },
   "outputs": [
    {
     "name": "stdout",
     "output_type": "stream",
     "text": [
      "No. of distributions examined 2\n"
     ]
    }
   ],
   "source": [
    "def flightDelayForAllODPairs(df):\n",
    "    \n",
    "    #odPairList = df['ODPair'].unique()\n",
    "    odPairList = ['LAX-OAK','OAK-LAX']\n",
    "    \n",
    "    limit = len(odPairList)\n",
    "    outDF = pd.DataFrame()\n",
    "    i = 0\n",
    "    modval = 10\n",
    "    monthsList = df['MONTH'].unique()\n",
    "    print \"No. of distributions examined\", limit\n",
    "    for odPair in odPairList:\n",
    "        for month in monthsList:\n",
    "        \n",
    "            tempDat = df.loc[((df['ODPair'] ==odPair )&(df['MONTH'] == month))]\n",
    "\n",
    "            origin = tempDat['ORIGIN'].unique()[0]\n",
    "            dest = tempDat['DEST'].unique()[0]\n",
    "            #print odPair, origin, dest, len(tempDat)\n",
    "\n",
    "            arr_list = tempDat['FLT_DELAY'].fillna(0).values.tolist()\n",
    "\n",
    "            opt = list(fitBestDistBasedOnKS(arr_list))\n",
    "            #print odPair, opt\n",
    "\n",
    "            params = None\n",
    "            if opt!=None and opt[3]!=None:\n",
    "                params = list(opt[3])\n",
    "\n",
    "            datDict = {\n",
    "                'ORIGIN': None\n",
    "                , 'DEST': None\n",
    "                , 'DIST': None\n",
    "                , 'DStat': None\n",
    "                , 'p1': None\n",
    "                , 'p2': None\n",
    "                , 'p3': None\n",
    "                , 'p4': None\n",
    "                , 'p5': None\n",
    "                , 'len': None\n",
    "                , 'month':None\n",
    "            }\n",
    "            datDict['ORIGIN'] = origin \n",
    "            datDict['DEST'] = dest \n",
    "\n",
    "            if opt != None and len(opt) > 0:\n",
    "                datDict['DIST'] = opt[0]\n",
    "\n",
    "            if opt != None and len(opt) > 1:\n",
    "                datDict['DStat'] = opt[1]\n",
    "\n",
    "            if opt != None and len(opt) > 2:\n",
    "                datDict['pval'] = opt[2]\n",
    "\n",
    "            if params != None and len(params) > 0:\n",
    "                datDict['p1'] = params[0]\n",
    "\n",
    "            if params != None and len(params) > 1:\n",
    "                datDict['p2'] = params[1]\n",
    "\n",
    "            if params != None and len(params) > 2:\n",
    "                datDict['p3'] = params[2]\n",
    "\n",
    "            if params != None and len(params) > 3:\n",
    "                datDict['p4'] = params[3]\n",
    "\n",
    "            if params != None and len(params) > 4:\n",
    "                datDict['p5'] = params[4]\n",
    "\n",
    "            datDict ['len'] = len(tempDat)\n",
    "            datDict ['month'] = month\n",
    "            #print datDict\n",
    "            outDF = outDF.append(datDict, ignore_index=True)\n",
    "\n",
    "            val = math.floor((i * 100.0 / limit))\n",
    "\n",
    "            if val > 0.0 and val == modval:\n",
    "                print \"*\", #i, val, i *1.0/limit, modval\n",
    "                modval = modval + 10\n",
    "            i +=1\n",
    "        \n",
    "    return outDF\n",
    "\n",
    "distDF = flightDelayForAllODPairs(swDat)\n"
   ]
  },
  {
   "cell_type": "code",
   "execution_count": 60,
   "metadata": {
    "collapsed": false
   },
   "outputs": [
    {
     "name": "stdout",
     "output_type": "stream",
     "text": [
      "   DEST  DIST     DStat ORIGIN    len  month         p1          p2  \\\n",
      "0   OAK     t  0.114410    LAX  389.0    1.0   0.876073  108.521875   \n",
      "1   OAK     t  0.129482    LAX  358.0    2.0   0.829110  109.912457   \n",
      "2   OAK     t  0.131238    LAX  398.0    3.0   0.736434  108.161050   \n",
      "3   OAK     t  0.137804    LAX  390.0    4.0   0.623026  108.187990   \n",
      "4   OAK     t  0.102111    LAX  390.0    5.0   0.637978  108.512172   \n",
      "5   OAK     t  0.086603    LAX  396.0    6.0   0.531861  107.453779   \n",
      "6   OAK     t  0.102864    LAX  405.0    7.0   0.563565  108.986373   \n",
      "7   OAK     t  0.095686    LAX  391.0    8.0   0.640175  108.012359   \n",
      "8   OAK     t  0.134398    LAX  363.0    9.0   0.729936  108.498967   \n",
      "9   OAK     t  0.145652    LAX  390.0   10.0   0.750319  108.616044   \n",
      "10  OAK     t  0.186764    LAX  375.0   11.0   0.687377  109.963157   \n",
      "11  OAK     t  0.224485    LAX  381.0   12.0   0.782218  114.447468   \n",
      "12  LAX     t  0.212975    OAK  390.0    1.0   0.906297  113.471593   \n",
      "13  LAX     t  0.156713    OAK  358.0    2.0   2.579877  122.118196   \n",
      "14  LAX     t  0.156416    OAK  398.0    3.0   3.251500  125.094445   \n",
      "15  LAX     t  0.144018    OAK  390.0    4.0   0.761832  112.070296   \n",
      "16  LAX     t  0.175515    OAK  388.0    5.0   0.888637  112.937092   \n",
      "17  LAX     t  0.150129    OAK  395.0    6.0   0.710117  115.490178   \n",
      "18  LAX     t  0.131051    OAK  404.0    7.0   0.727271  118.176837   \n",
      "19  LAX     t  0.146863    OAK  391.0    8.0   1.826824  125.363291   \n",
      "20  LAX  beta  0.216913    OAK  362.0    9.0  23.794820    6.114543   \n",
      "21  LAX     t  0.189254    OAK  391.0   10.0   0.839210  112.596150   \n",
      "22  LAX     t  0.193254    OAK  375.0   11.0   1.028751  114.659158   \n",
      "23  LAX     t  0.194488    OAK  379.0   12.0   0.974036  114.756605   \n",
      "\n",
      "            p3       p4    p5          pval  \n",
      "0     3.930831     None  None  6.832753e-05  \n",
      "1     5.120184     None  None  1.080544e-05  \n",
      "2     3.159154     None  None  1.945907e-06  \n",
      "3     3.559116     None  None  6.372567e-07  \n",
      "4     3.027228     None  None  5.409259e-04  \n",
      "5     2.977841     None  None  4.935142e-03  \n",
      "6     4.460086     None  None  3.485202e-04  \n",
      "7     3.239529     None  None  1.442660e-03  \n",
      "8     3.925017     None  None  3.524871e-06  \n",
      "9     3.613072     None  None  1.101722e-07  \n",
      "10    4.024908     None  None  6.339596e-12  \n",
      "11    6.871305     None  None  0.000000e+00  \n",
      "12    7.554243     None  None  4.440892e-16  \n",
      "13   20.567683     None  None  3.811718e-08  \n",
      "14   22.261347     None  None  5.698651e-09  \n",
      "15    4.805228     None  None  1.600511e-07  \n",
      "16    5.606180     None  None  6.333445e-11  \n",
      "17    6.523535     None  None  3.087478e-08  \n",
      "18    7.162776     None  None  1.645794e-06  \n",
      "19   21.660023     None  None  7.976420e-08  \n",
      "20 -252.780303  474.625  None  1.998401e-15  \n",
      "21    6.279968     None  None  9.769963e-13  \n",
      "22    7.678758     None  None  9.638956e-13  \n",
      "23    8.294956     None  None  4.929390e-13  \n"
     ]
    }
   ],
   "source": [
    "print_full(distDF)"
   ]
  },
  {
   "cell_type": "code",
   "execution_count": null,
   "metadata": {
    "collapsed": true
   },
   "outputs": [],
   "source": []
  },
  {
   "cell_type": "code",
   "execution_count": null,
   "metadata": {
    "collapsed": true
   },
   "outputs": [],
   "source": []
  },
  {
   "cell_type": "code",
   "execution_count": null,
   "metadata": {
    "collapsed": true
   },
   "outputs": [],
   "source": []
  },
  {
   "cell_type": "code",
   "execution_count": null,
   "metadata": {
    "collapsed": true
   },
   "outputs": [],
   "source": []
  },
  {
   "cell_type": "code",
   "execution_count": null,
   "metadata": {
    "collapsed": true
   },
   "outputs": [],
   "source": []
  },
  {
   "cell_type": "code",
   "execution_count": null,
   "metadata": {
    "collapsed": true
   },
   "outputs": [],
   "source": []
  },
  {
   "cell_type": "code",
   "execution_count": null,
   "metadata": {
    "collapsed": true
   },
   "outputs": [],
   "source": []
  },
  {
   "cell_type": "code",
   "execution_count": null,
   "metadata": {
    "collapsed": true
   },
   "outputs": [],
   "source": []
  },
  {
   "cell_type": "code",
   "execution_count": null,
   "metadata": {
    "collapsed": true
   },
   "outputs": [],
   "source": []
  },
  {
   "cell_type": "code",
   "execution_count": null,
   "metadata": {
    "collapsed": true
   },
   "outputs": [],
   "source": []
  }
 ],
 "metadata": {
  "celltoolbar": "Slideshow",
  "kernelspec": {
   "display_name": "Python 2",
   "language": "python",
   "name": "python2"
  },
  "language_info": {
   "codemirror_mode": {
    "name": "ipython",
    "version": 2
   },
   "file_extension": ".py",
   "mimetype": "text/x-python",
   "name": "python",
   "nbconvert_exporter": "python",
   "pygments_lexer": "ipython2",
   "version": "2.7.10"
  }
 },
 "nbformat": 4,
 "nbformat_minor": 0
}
