{
 "cells": [
  {
   "cell_type": "code",
   "execution_count": 107,
   "metadata": {
    "collapsed": false
   },
   "outputs": [],
   "source": [
    "import pandas as pd\n",
    "\n",
    "dat = pd.read_csv(\"data/conversion_data.csv\")"
   ]
  },
  {
   "cell_type": "code",
   "execution_count": 102,
   "metadata": {
    "collapsed": false
   },
   "outputs": [
    {
     "data": {
      "text/html": [
       "<div>\n",
       "<table border=\"1\" class=\"dataframe\">\n",
       "  <thead>\n",
       "    <tr style=\"text-align: right;\">\n",
       "      <th></th>\n",
       "      <th>country</th>\n",
       "      <th>age</th>\n",
       "      <th>new_user</th>\n",
       "      <th>source</th>\n",
       "      <th>total_pages_visited</th>\n",
       "      <th>converted</th>\n",
       "      <th>uid</th>\n",
       "    </tr>\n",
       "  </thead>\n",
       "  <tbody>\n",
       "    <tr>\n",
       "      <th>0</th>\n",
       "      <td>UK</td>\n",
       "      <td>25</td>\n",
       "      <td>1</td>\n",
       "      <td>Ads</td>\n",
       "      <td>1</td>\n",
       "      <td>0</td>\n",
       "      <td>82f450f5-b5ff-4c18-9380-c5190a95713b</td>\n",
       "    </tr>\n",
       "  </tbody>\n",
       "</table>\n",
       "</div>"
      ],
      "text/plain": [
       "  country  age  new_user source  total_pages_visited  converted  \\\n",
       "0      UK   25         1    Ads                    1          0   \n",
       "\n",
       "                                    uid  \n",
       "0  82f450f5-b5ff-4c18-9380-c5190a95713b  "
      ]
     },
     "execution_count": 102,
     "metadata": {},
     "output_type": "execute_result"
    }
   ],
   "source": [
    "dat['uid'] = dat.apply (lambda row: uuid.uuid4(),axis=1)\n",
    "\n",
    "dat.head(1)\n"
   ]
  },
  {
   "cell_type": "code",
   "execution_count": 103,
   "metadata": {
    "collapsed": false
   },
   "outputs": [
    {
     "data": {
      "text/plain": [
       "country                0\n",
       "age                    0\n",
       "new_user               0\n",
       "source                 0\n",
       "total_pages_visited    0\n",
       "converted              0\n",
       "uid                    0\n",
       "dtype: int64"
      ]
     },
     "execution_count": 103,
     "metadata": {},
     "output_type": "execute_result"
    }
   ],
   "source": [
    "%matplotlib inline\n",
    "\n",
    "dat.isnull().sum()"
   ]
  },
  {
   "cell_type": "code",
   "execution_count": null,
   "metadata": {
    "collapsed": false
   },
   "outputs": [],
   "source": [
    "\n"
   ]
  },
  {
   "cell_type": "code",
   "execution_count": 57,
   "metadata": {
    "collapsed": false
   },
   "outputs": [
    {
     "name": "stdout",
     "output_type": "stream",
     "text": [
      "converted       0     1\n",
      "country                \n",
      "China       76500   102\n",
      "Germany     12240   816\n",
      "UK          45900  2550\n",
      "US         171360  6732\n",
      "\t\t   converted\n",
      "+---------+---------+-------+---------+-------+\n",
      "| country |   False |  True |   Total |  Rate |\n",
      "+---------+---------+-------+---------+-------+\n",
      "| China   |  76,500 |   102 |  76,602 | 0.13% |\n",
      "| Germany |  12,240 |   816 |  13,056 | 6.25% |\n",
      "| UK      |  45,900 | 2,550 |  48,450 | 5.26% |\n",
      "| US      | 171,360 | 6,732 | 178,092 | 3.78% |\n",
      "+---------+---------+-------+---------+-------+\n"
     ]
    },
    {
     "data": {
      "image/png": "[encoded data removed]",
      "text/plain": [
       "<matplotlib.figure.Figure at 0xb6957b8>"
      ]
     },
     "metadata": {},
     "output_type": "display_data"
    }
   ],
   "source": [
    "from prettytable import PrettyTable\n",
    "import matplotlib.pyplot as plt\n",
    "import numpy as np\n",
    "import math\n",
    "\n",
    "def plotStackedBarWithTitle(df, groupByCol, legendFlag, titleString):\n",
    "    customers = df[['uid', groupByCol, legendFlag]]\n",
    "    \n",
    "    #Group By and count\n",
    "    customer_group = customers.groupby([groupByCol, legendFlag])\n",
    "    tc = customer_group.uid.nunique()\n",
    "    tcUnstack = tc.unstack()\n",
    "    \n",
    "    #print tcUnstack\n",
    "    t = PrettyTable([groupByCol,'False','True', 'Total', 'Rate'])\n",
    "    t.align[groupByCol] = \"l\"\n",
    "    t.align['False'] = \"r\"\n",
    "    t.align['True'] = \"r\"\n",
    "    t.align['Total'] = \"r\"\n",
    "    t.align['Rate'] = \"r\"\n",
    "    print tcUnstack\n",
    "    for i in range(len(tcUnstack.index)):\n",
    "        #print i\n",
    "        falseCount = tcUnstack[0][i]\n",
    "        trueCount = tcUnstack[1][i]\n",
    "        totalCount = falseCount + trueCount\n",
    "        rate = trueCount *1.0/ totalCount\n",
    "\n",
    "        falseCountString = \"{:,}\".format(falseCount)\n",
    "        trueCountString = \"{:,}\".format(trueCount)\n",
    "        totalCountString = \"{:,}\".format(totalCount)\n",
    "        rateString = \"{:.2%}\".format(rate)\n",
    "        t.add_row([tcUnstack.index[i], falseCountString, trueCountString, totalCountString, rateString])\n",
    "\n",
    "    print '\\t\\t  ', legendFlag\n",
    "    print t\n",
    "\n",
    "    #print len(tcUnstack.index)\n",
    "    #Calculate %share\n",
    "    rowSum = []\n",
    "    rowSum = tcUnstack[0] + tcUnstack[1]\n",
    "    tcUnstack[0] = tcUnstack[0]*1.0/rowSum\n",
    "    tcUnstack[1] = tcUnstack[1]*1.0/rowSum\n",
    "    tcUnstack = tcUnstack.fillna(value = 0)\n",
    "    font = {'family': 'arial',\n",
    "        'color':  'white',\n",
    "        'weight': 'normal',\n",
    "        'size': 10,\n",
    "        }\n",
    "\n",
    "    #'''\n",
    "    #Plot the bar graph\n",
    "    myPlot = tcUnstack.plot(kind='bar',width = 0.7, stacked=True,title=titleString)\n",
    "    #myPlot.show()\n",
    "    fig = plt.gcf()\n",
    "    \n",
    "    #Set size of the graph\n",
    "    fig.set_size_inches(18.5/2, 10.5/2)\n",
    "    \n",
    "    #Label the graph\n",
    "    for i, each in enumerate(tcUnstack.index):\n",
    "        past = 0\n",
    "        for col in tcUnstack.columns:\n",
    "            y = tcUnstack.ix[each][col]\n",
    "            myPlot.text(i-0.15, y+past-y/2, \"{:.2%}\".format(y), font)\n",
    "            past = y\n",
    "\n",
    "def plotStackedBar(df, groupByCol, legendFlag):\n",
    "    return plotStackedBarWithTitle(df, groupByCol, legendFlag, \"\")\n",
    "\n",
    "import uuid\n",
    "\n",
    "#dat['uid'] = dat.apply (lambda row: uuid.uuid4(),axis=1)\n",
    "\n",
    "#print dat.head(2)\n",
    "\n",
    "plotStackedBar(dat, \"country\", \"converted\")\n",
    "\n"
   ]
  },
  {
   "cell_type": "code",
   "execution_count": 38,
   "metadata": {
    "collapsed": false
   },
   "outputs": [
    {
     "name": "stdout",
     "output_type": "stream",
     "text": [
      "\t\t   converted\n",
      "+----------+---------+-------+---------+-------+\n",
      "| new_user |   False |  True |   Total |  Rate |\n",
      "+----------+---------+-------+---------+-------+\n",
      "| 0        |  92,295 | 7,161 |  99,456 | 7.20% |\n",
      "| 1        | 213,705 | 3,039 | 216,744 | 1.40% |\n",
      "+----------+---------+-------+---------+-------+\n"
     ]
    },
    {
     "data": {
      "image/png": "[encoded data removed]",
      "text/plain": [
       "<matplotlib.figure.Figure at 0xb68aeb8>"
      ]
     },
     "metadata": {},
     "output_type": "display_data"
    }
   ],
   "source": [
    "plotStackedBar(dat, \"new_user\", \"converted\")"
   ]
  },
  {
   "cell_type": "code",
   "execution_count": 39,
   "metadata": {
    "collapsed": false
   },
   "outputs": [
    {
     "name": "stdout",
     "output_type": "stream",
     "text": [
      "\t\t   converted\n",
      "+--------+---------+-------+---------+-------+\n",
      "| source |   False |  True |   Total |  Rate |\n",
      "+--------+---------+-------+---------+-------+\n",
      "| Ads    |  85,680 | 3,060 |  88,740 | 3.45% |\n",
      "| Direct |  70,380 | 2,040 |  72,420 | 2.82% |\n",
      "| Seo    | 149,940 | 5,100 | 155,040 | 3.29% |\n",
      "+--------+---------+-------+---------+-------+\n"
     ]
    },
    {
     "data": {
      "image/png": "[encoded data removed]",
      "text/plain": [
       "<matplotlib.figure.Figure at 0x236f00f0>"
      ]
     },
     "metadata": {},
     "output_type": "display_data"
    }
   ],
   "source": [
    "plotStackedBar(dat, \"source\", \"converted\")"
   ]
  },
  {
   "cell_type": "code",
   "execution_count": 43,
   "metadata": {
    "collapsed": false
   },
   "outputs": [
    {
     "data": {
      "text/plain": [
       "array([[<matplotlib.axes._subplots.AxesSubplot object at 0x000000001F319D68>]], dtype=object)"
      ]
     },
     "execution_count": 43,
     "metadata": {},
     "output_type": "execute_result"
    },
    {
     "data": {
      "image/png": "[encoded data removed]",
      "text/plain": [
       "<matplotlib.figure.Figure at 0x1f3199e8>"
      ]
     },
     "metadata": {},
     "output_type": "display_data"
    }
   ],
   "source": [
    "pg_view = dat[[\"total_pages_visited\"]]\n",
    "\n",
    "pg_view.hist(bins = 50)\n",
    "#plotStackedBar(dat, \"total_pages_visited\", \"converted\")"
   ]
  },
  {
   "cell_type": "code",
   "execution_count": 44,
   "metadata": {
    "collapsed": false
   },
   "outputs": [
    {
     "data": {
      "text/plain": [
       "array([[<matplotlib.axes._subplots.AxesSubplot object at 0x000000000B6F83C8>]], dtype=object)"
      ]
     },
     "execution_count": 44,
     "metadata": {},
     "output_type": "execute_result"
    },
    {
     "data": {
      "image/png": "[encoded data removed]",
      "text/plain": [
       "<matplotlib.figure.Figure at 0x1f3195c0>"
      ]
     },
     "metadata": {},
     "output_type": "display_data"
    }
   ],
   "source": [
    "pg_view = dat[[\"age\"]]\n",
    "\n",
    "pg_view.hist(bins = 50)\n"
   ]
  },
  {
   "cell_type": "code",
   "execution_count": 117,
   "metadata": {
    "collapsed": false
   },
   "outputs": [],
   "source": [
    "#plotStackedBar(dat, \"age\", \"converted\")\n"
   ]
  },
  {
   "cell_type": "code",
   "execution_count": 86,
   "metadata": {
    "collapsed": true
   },
   "outputs": [],
   "source": [
    "def labelSuccessXY(row, col, val):\n",
    "    if row[col] == val:\n",
    "        return 1\n",
    "    else:\n",
    "        return 0"
   ]
  },
  {
   "cell_type": "code",
   "execution_count": 108,
   "metadata": {
    "collapsed": false
   },
   "outputs": [
    {
     "name": "stdout",
     "output_type": "stream",
     "text": [
      "  country  age  new_user source  total_pages_visited  converted  \\\n",
      "0      UK   25         1    Ads                    1          0   \n",
      "1      US   23         1    Seo                    5          0   \n",
      "2      US   28         1    Seo                    4          0   \n",
      "3   China   39         1    Seo                    5          0   \n",
      "4      US   30         1    Seo                    6          0   \n",
      "\n",
      "   country_Germany  country_UK  country_US  source_Direct  source_Seo  \n",
      "0              0.0         1.0         0.0            0.0         0.0  \n",
      "1              0.0         0.0         1.0            0.0         1.0  \n",
      "2              0.0         0.0         1.0            0.0         1.0  \n",
      "3              0.0         0.0         0.0            0.0         1.0  \n",
      "4              0.0         0.0         1.0            0.0         1.0  \n"
     ]
    },
    {
     "data": {
      "text/plain": [
       "'\\ndat[\"USFlag\"] = dat.apply (lambda row: labelSuccessXY(row,\"country\", \"US\"),axis=1)\\ndat[\"UKFlag\"] = dat.apply (lambda row: labelSuccessXY(row,\"country\", \"UK\"),axis=1)\\ndat[\"DEFlag\"] = dat.apply (lambda row: labelSuccessXY(row,\"country\", \"Germany\"),axis=1)\\n\\ndat[\"DirFlag\"] = dat.apply (lambda row: labelSuccessXY(row,\"source\", \"Direct\"),axis=1)\\ndat[\"SeoFlag\"] = dat.apply (lambda row: labelSuccessXY(row,\"source\", \"Seo\"),axis=1)\\n'"
      ]
     },
     "execution_count": 108,
     "metadata": {},
     "output_type": "execute_result"
    }
   ],
   "source": [
    "\n",
    "dummy_ranks = pd.get_dummies(dat['country'], prefix='country')\n",
    "#print dummy_ranks.head()\n",
    "#    prestige_1  prestige_2  prestige_3  prestige_4\n",
    "# 0           0           0           1           0\n",
    "# 1           0           0           1           0\n",
    "# 2           1           0           0           0\n",
    "# 3           0           0           0           1\n",
    "# 4           0           0           0           1\n",
    "\n",
    "# create a clean data frame for the regression\n",
    "\n",
    "dat = dat.join(dummy_ranks.ix[:, 'country_Germany':])\n",
    "\n",
    "dummy_ranks = pd.get_dummies(dat['source'], prefix='source')\n",
    "\n",
    "dat = dat.join(dummy_ranks.ix[:, 'source_Direct':])\n",
    "\n",
    "#print dummy_ranks.head()\n",
    "#    prestige_1  prestige_2  prestige_3  prestige_4\n",
    "# 0           0           0           1           0\n",
    "# 1           0           0           1           0\n",
    "# 2           1           0           0           0\n",
    "# 3           0           0           0           1\n",
    "# 4           0           0           0           1\n",
    "\n",
    "# create a clean data frame for the regression\n",
    "\n",
    "#data = dat.join(dummy_ranks.ix[:, 'country_China':])\n",
    "print dat.head()\n",
    "'''\n",
    "dat[\"USFlag\"] = dat.apply (lambda row: labelSuccessXY(row,\"country\", \"US\"),axis=1)\n",
    "dat[\"UKFlag\"] = dat.apply (lambda row: labelSuccessXY(row,\"country\", \"UK\"),axis=1)\n",
    "dat[\"DEFlag\"] = dat.apply (lambda row: labelSuccessXY(row,\"country\", \"Germany\"),axis=1)\n",
    "\n",
    "dat[\"DirFlag\"] = dat.apply (lambda row: labelSuccessXY(row,\"source\", \"Direct\"),axis=1)\n",
    "dat[\"SeoFlag\"] = dat.apply (lambda row: labelSuccessXY(row,\"source\", \"Seo\"),axis=1)\n",
    "'''\n",
    "\n"
   ]
  },
  {
   "cell_type": "code",
   "execution_count": 110,
   "metadata": {
    "collapsed": false
   },
   "outputs": [
    {
     "name": "stdout",
     "output_type": "stream",
     "text": [
      "  country  age  new_user source  total_pages_visited  converted  \\\n",
      "0      UK   25         1    Ads                    1          0   \n",
      "1      US   23         1    Seo                    5          0   \n",
      "2      US   28         1    Seo                    4          0   \n",
      "3   China   39         1    Seo                    5          0   \n",
      "4      US   30         1    Seo                    6          0   \n",
      "\n",
      "   country_Germany  country_UK  country_US  source_Direct  source_Seo  \n",
      "0              0.0         1.0         0.0            0.0         0.0  \n",
      "1              0.0         0.0         1.0            0.0         1.0  \n",
      "2              0.0         0.0         1.0            0.0         1.0  \n",
      "3              0.0         0.0         0.0            0.0         1.0  \n",
      "4              0.0         0.0         1.0            0.0         1.0  \n"
     ]
    }
   ],
   "source": [
    "\n",
    "print dat.head()"
   ]
  },
  {
   "cell_type": "code",
   "execution_count": 64,
   "metadata": {
    "collapsed": true
   },
   "outputs": [],
   "source": [
    "#print dat[[\"country\", \"USFlag\", \"UKFlag\", \"DEFlag\"]]"
   ]
  },
  {
   "cell_type": "code",
   "execution_count": 88,
   "metadata": {
    "collapsed": false
   },
   "outputs": [
    {
     "name": "stdout",
     "output_type": "stream",
     "text": [
      "  source  DirFlag  SeoFlag\n",
      "0    Ads        0        0\n",
      "1    Seo        0        1\n",
      "2    Seo        0        1\n",
      "3    Seo        0        1\n",
      "4    Seo        0        1\n"
     ]
    }
   ],
   "source": [
    "print dat[[\"source\", \"DirFlag\", \"SeoFlag\"]].head()"
   ]
  },
  {
   "cell_type": "code",
   "execution_count": 111,
   "metadata": {
    "collapsed": false
   },
   "outputs": [
    {
     "name": "stdout",
     "output_type": "stream",
     "text": [
      "Optimization terminated successfully.\n",
      "         Current function value: 0.057774\n",
      "         Iterations 10\n",
      "Dataframe 1:\n"
     ]
    }
   ],
   "source": [
    "import statsmodels.api as sm\n",
    "train_cols = [\"age\", \"new_user\", \"total_pages_visited\", \"country_Germany\", \"country_UK\",\"country_US\", \"source_Direct\", \"source_Seo\"]\n",
    "# Index([gre, gpa, prestige_2, prestige_3, prestige_4], dtype=object)\n",
    "\n",
    "logit = sm.Logit(dat[['converted']], dat[train_cols])\n",
    "\n",
    "# fit the model\n",
    "result = logit.fit()\n",
    "#dat[train_cols]\n",
    "#dat[['converted']]\n",
    "#from IPython.display import display, HTML\n",
    "\n",
    "# Assuming that dataframes df1 and df2 are already defined:\n",
    "print \"Dataframe 1:\"\n",
    "#display(dat[train_cols])\n",
    "\n"
   ]
  },
  {
   "cell_type": "code",
   "execution_count": 112,
   "metadata": {
    "collapsed": false
   },
   "outputs": [
    {
     "name": "stdout",
     "output_type": "stream",
     "text": [
      "                           Logit Regression Results                           \n",
      "==============================================================================\n",
      "Dep. Variable:              converted   No. Observations:               316200\n",
      "Model:                          Logit   Df Residuals:                   316192\n",
      "Method:                           MLE   Df Model:                            7\n",
      "Date:                Thu, 26 May 2016   Pseudo R-squ.:                  0.5946\n",
      "Time:                        22:57:08   Log-Likelihood:                -18268.\n",
      "converged:                       True   LL-Null:                       -45060.\n",
      "                                        LLR p-value:                     0.000\n",
      "=======================================================================================\n",
      "                          coef    std err          z      P>|z|      [95.0% Conf. Int.]\n",
      "---------------------------------------------------------------------------------------\n",
      "age                    -0.2486      0.002   -128.310      0.000        -0.252    -0.245\n",
      "new_user               -2.2197      0.030    -73.224      0.000        -2.279    -2.160\n",
      "total_pages_visited     0.5964      0.005    132.249      0.000         0.588     0.605\n",
      "country_Germany         0.4469      0.067      6.626      0.000         0.315     0.579\n",
      "country_UK              0.2418      0.045      5.409      0.000         0.154     0.329\n",
      "country_US             -0.1293      0.036     -3.604      0.000        -0.200    -0.059\n",
      "source_Direct          -1.0610      0.040    -26.400      0.000        -1.140    -0.982\n",
      "source_Seo             -0.8955      0.031    -28.733      0.000        -0.957    -0.834\n",
      "=======================================================================================\n"
     ]
    }
   ],
   "source": [
    "print result.summary()"
   ]
  },
  {
   "cell_type": "code",
   "execution_count": 113,
   "metadata": {
    "collapsed": false
   },
   "outputs": [
    {
     "name": "stdout",
     "output_type": "stream",
     "text": [
      "                            0         1\n",
      "age                 -0.252399 -0.244804\n",
      "new_user            -2.279064 -2.160239\n",
      "total_pages_visited  0.587563  0.605240\n",
      "country_Germany      0.314679  0.579031\n",
      "country_UK           0.154161  0.329367\n",
      "country_US          -0.199613 -0.058975\n",
      "source_Direct       -1.139777 -0.982234\n",
      "source_Seo          -0.956624 -0.834449\n"
     ]
    }
   ],
   "source": [
    "print result.conf_int()"
   ]
  },
  {
   "cell_type": "code",
   "execution_count": 114,
   "metadata": {
    "collapsed": false
   },
   "outputs": [
    {
     "name": "stdout",
     "output_type": "stream",
     "text": [
      "age                    0.779891\n",
      "new_user               0.108647\n",
      "total_pages_visited    1.815574\n",
      "country_Germany        1.563388\n",
      "country_UK             1.273494\n",
      "country_US             0.878716\n",
      "source_Direct          0.346108\n",
      "source_Seo             0.408389\n",
      "dtype: float64\n"
     ]
    }
   ],
   "source": [
    "print np.exp(result.params)"
   ]
  },
  {
   "cell_type": "code",
   "execution_count": 115,
   "metadata": {
    "collapsed": false
   },
   "outputs": [
    {
     "name": "stdout",
     "output_type": "stream",
     "text": [
      "                         2.5%     97.5%        OR\n",
      "age                  0.776935  0.782858  0.779891\n",
      "new_user             0.102380  0.115298  0.108647\n",
      "total_pages_visited  1.799597  1.831693  1.815574\n",
      "country_Germany      1.369820  1.784309  1.563388\n",
      "country_UK           1.166679  1.390088  1.273494\n",
      "country_US           0.819048  0.942731  0.878716\n",
      "source_Direct        0.319890  0.374474  0.346108\n",
      "source_Seo           0.384188  0.434114  0.408389\n"
     ]
    }
   ],
   "source": [
    "params = result.params\n",
    "conf = result.conf_int()\n",
    "conf['OR'] = params\n",
    "conf.columns = ['2.5%', '97.5%', 'OR']\n",
    "print np.exp(conf)"
   ]
  },
  {
   "cell_type": "code",
   "execution_count": null,
   "metadata": {
    "collapsed": true
   },
   "outputs": [],
   "source": []
  },
  {
   "cell_type": "code",
   "execution_count": null,
   "metadata": {
    "collapsed": true
   },
   "outputs": [],
   "source": []
  },
  {
   "cell_type": "code",
   "execution_count": null,
   "metadata": {
    "collapsed": true
   },
   "outputs": [],
   "source": []
  },
  {
   "cell_type": "code",
   "execution_count": null,
   "metadata": {
    "collapsed": true
   },
   "outputs": [],
   "source": []
  },
  {
   "cell_type": "code",
   "execution_count": null,
   "metadata": {
    "collapsed": true
   },
   "outputs": [],
   "source": []
  },
  {
   "cell_type": "code",
   "execution_count": null,
   "metadata": {
    "collapsed": true
   },
   "outputs": [],
   "source": []
  },
  {
   "cell_type": "code",
   "execution_count": null,
   "metadata": {
    "collapsed": true
   },
   "outputs": [],
   "source": []
  }
 ],
 "metadata": {
  "kernelspec": {
   "display_name": "Python 2",
   "language": "python",
   "name": "python2"
  },
  "language_info": {
   "codemirror_mode": {
    "name": "ipython",
    "version": 2
   },
   "file_extension": ".py",
   "mimetype": "text/x-python",
   "name": "python",
   "nbconvert_exporter": "python",
   "pygments_lexer": "ipython2",
   "version": "2.7.10"
  }
 },
 "nbformat": 4,
 "nbformat_minor": 0
}
