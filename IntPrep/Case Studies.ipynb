{
 "cells": [
  {
   "cell_type": "markdown",
   "metadata": {},
   "source": [
    "# Index\n",
    "\n",
    "1. Marketing\n",
    "    * Marketing Budget Allocation"
   ]
  },
  {
   "cell_type": "markdown",
   "metadata": {},
   "source": [
    "### Marketing Budget Allocation\n",
    "\n",
    "* Why Marketing Budget Allocation?\n",
    "* Who is requesting for the Marketing Budget Allocation?\n",
    "\n",
    "\n",
    "\n",
    "* **Define Goals:**\n",
    "    * Overall Sales\n",
    "    * Regional Strategy and size\n",
    "    * Product Strategy (impending launches) and size\n",
    "    * Determine objective function (maximize RoI, maximize Sales,...)\n",
    "* **Define Hierarchy based on Business (P&L) ownership:**\n",
    "    * Sales by Region > Sub-Regions > Business Unit > Business Segment > Channel Type (Brand vs. Transactional) > Channel\n",
    "    * Consider Cross-Channel, Cross-Region, Cross-vehicle Impact\n",
    "    * Consider lag, adstock, vehicle (might be too granular) \n",
    "    * Consider Pricing (Competition)\n",
    "* **Initial Run:**\n",
    "    * Forecast Sales\n",
    "    * Calculate ROI\n",
    "* **Define constraints:**\n",
    "    * Region based, channel based, brand vs. transactional, pricing,...\n",
    "* **Optimize and Realign goals/optimize:**\n",
    "    * Forecast Sales and re-align goals and constraints\n"
   ]
  },
  {
   "cell_type": "markdown",
   "metadata": {},
   "source": [
    "### Understanding Customer Attrition:\n",
    "\n",
    "* Why look at customer attrition?\n",
    "* What does customer attrition impact? (Revenue, lifetime value)\n",
    "\n",
    "\n",
    "* Define Goals: \n",
    "    * Ex: Reduce customer attrition by x%\n",
    "* Define Hierarchy:\n",
    "    * \n",
    "\n",
    "\n",
    "* Factors:\n",
    "    * Customer Factors:\n",
    "        * Customer Profile Factors\n",
    "            * Customer demographics\n",
    "    * Customer Relationship Factors\n",
    "        * Customer Sales Factors\n",
    "            * Customer order value trend\n",
    "            * Customer order frequency trend\n",
    "        * Customer Touch Points:\n",
    "            * Customer marketing touch point\n",
    "            * Customer feedback\n",
    "        * Customer Service Request \n",
    "            * Customer Service Frequency\n",
    "            * Customer Service Status\n",
    "            * Customer Service time to resolution\n",
    "    * Product/Seller Factors:\n",
    "        * Product Factors\n",
    "            * Product Mix\n",
    "            * Product Price\n",
    "            * Product Quality\n",
    "        * Transaction Factors\n",
    "            * Payment Issues\n",
    "                * Payment Type\n",
    "                * Payment Failures\n",
    "            * Delivery Factors\n",
    "                * Order delivery duration\n",
    "                * Order delivery\n",
    "            * Return Factors:\n",
    "                * Pending Returns\n",
    "                * Return speed\n",
    "                * Refund speed\n",
    "    \n",
    "            \n"
   ]
  },
  {
   "cell_type": "markdown",
   "metadata": {},
   "source": [
    "### Cross-sell:\n",
    "\n",
    "* Define goals:\n",
    "    * Why cross-sell?\n",
    "\n",
    "* Define Hierarchy:\n",
    "    * Which are homogeneous customer groups? Based on product mix purchased, order value\n",
    "    * Segment Customers to find relatively homogenous groups: Region, Demographics (Income, Address, Race, )\n",
    "    * \n"
   ]
  },
  {
   "cell_type": "markdown",
   "metadata": {},
   "source": [
    "### Customer Segmentation\n",
    "* Definition:\n",
    "    * A group of customers is considered a segment if thier characteristics based on a spefic metric is indistinguishable from each other but distiguishable from other customer groups\n",
    "    \n",
    "\n",
    "* Visitor Based:\n",
    "    * First-time, Guest, Repeat Guest, Logged-In, \n",
    "* Purchase Based:\n",
    "    * Customer, Regular Customers, VIP Status\n",
    "* Demographics Based:\n",
    "    * Location, Income, Age, Race, Religion\n",
    "* Device Based:\n",
    "    * Mobile {Nexus-Android, iPhone, Samsung-Android, other Android}\n",
    "    * Tablet {Samsung, iPad}\n",
    "    * Desktop {PC, Mac}\n",
    "* Source:\n",
    "    * Search Engine { Google, Bing, Yahoo}\n",
    "    * Social Networks {Facebook, Twitter, Pinterest, Snapchat}\n",
    "    * Direct"
   ]
  }
 ],
 "metadata": {
  "kernelspec": {
   "display_name": "Python 2",
   "language": "python",
   "name": "python2"
  },
  "language_info": {
   "codemirror_mode": {
    "name": "ipython",
    "version": 2
   },
   "file_extension": ".py",
   "mimetype": "text/x-python",
   "name": "python",
   "nbconvert_exporter": "python",
   "pygments_lexer": "ipython2",
   "version": "2.7.10"
  }
 },
 "nbformat": 4,
 "nbformat_minor": 0
}
